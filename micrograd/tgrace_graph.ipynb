{
 "cells": [
  {
   "cell_type": "code",
   "execution_count": 2,
   "metadata": {},
   "outputs": [],
   "source": [
    "from cProfile import label\n",
    "from graphviz import Digraph\n",
    "from micrograd.engine import Value\n",
    "from typing import Final\n",
    "\n",
    "\n",
    "def trace(root) -> tuple[set[Value], set[tuple[Value, Value]]]:\n",
    "    nodes: Final[set[Value]] = set()\n",
    "    edges: Final[set[tuple[Value, Value]]] = set()\n",
    "    def build(v: Value) -> None:\n",
    "        if v in nodes:\n",
    "            return\n",
    "        nodes.add(v)\n",
    "        for child in v.prev:\n",
    "            edges.add((child, v))\n",
    "            build(child)\n",
    "    build(root)\n",
    "    return nodes, edges\n",
    "\n",
    "def draw_dot(root, format='svg', graph_orientation='LR') -> Digraph:\n",
    "    \"\"\"\n",
    "    format: png | svg | ...\n",
    "    graph_orientation: TB (top to bottom graph) | LR (left to right)\n",
    "    \"\"\"\n",
    "    assert graph_orientation in ['LR', 'TB']\n",
    "    nodes, edges = trace(root)\n",
    "    dot: Final[Digraph] = Digraph(format=format,\n",
    "                                  graph_attr={'rankdir': graph_orientation})\n",
    "\n",
    "    for n in nodes:\n",
    "        curr_id: str = str(id(n))\n",
    "        if len(n.label) == 0:\n",
    "            node_label: str = f\"{{ data {n.data:.4f} | grad {n.grad:.4f} }}\"\n",
    "        else:\n",
    "            node_label: str = f\"{{ {n.label} | data {n.data:.4f} | grad {n.grad:.4f} }}\"\n",
    "        # Add data node.\n",
    "        dot.node(name=curr_id, label = node_label, shape='record')\n",
    "        if n._op:\n",
    "            # Add operation node and connect it to the data node.\n",
    "            # Only the data node that is produced by an operation has an operation node connected to it.\n",
    "            dot.node(name=curr_id + n._op, label=n._op)\n",
    "            dot.edge(curr_id + n._op, curr_id)\n",
    "\n",
    "    for n1, n2 in edges:\n",
    "        dot.edge(str(id(n1)), str(id(n2)) + n2._op)\n",
    "\n",
    "    return dot"
   ]
  },
  {
   "cell_type": "code",
   "execution_count": 3,
   "metadata": {},
   "outputs": [
    {
     "name": "stdout",
     "output_type": "stream",
     "text": [
      "x = Value(data=-4.0, grad=0)\n",
      "y = Value(data=2.0, grad=0)\n",
      "z = Value(data=-2.0, grad=0)\n"
     ]
    }
   ],
   "source": [
    "x = Value(-4.0)\n",
    "y = Value(2.0)\n",
    "z = x + y\n",
    "print(f\"x = {x}\")\n",
    "print(f\"y = {y}\")\n",
    "print(f\"z = {z}\")"
   ]
  },
  {
   "cell_type": "code",
   "execution_count": null,
   "metadata": {},
   "outputs": [],
   "source": []
  },
  {
   "cell_type": "code",
   "execution_count": 4,
   "metadata": {},
   "outputs": [
    {
     "name": "stdout",
     "output_type": "stream",
     "text": [
      "x = Value(data=3.0, grad=0)\n"
     ]
    }
   ],
   "source": [
    "x.data = 3.0\n",
    "print(f\"x = {x}\")"
   ]
  },
  {
   "cell_type": "code",
   "execution_count": 5,
   "metadata": {},
   "outputs": [
    {
     "name": "stdout",
     "output_type": "stream",
     "text": [
      "x = Value(data=5.0, grad=0)\n"
     ]
    }
   ],
   "source": [
    "x += y\n",
    "print(f\"x = {x}\")"
   ]
  },
  {
   "cell_type": "code",
   "execution_count": 6,
   "metadata": {},
   "outputs": [
    {
     "name": "stdout",
     "output_type": "stream",
     "text": [
      "xx = Value(data=7.0, grad=0)\n"
     ]
    }
   ],
   "source": [
    "xx = 2 + x\n",
    "print(f\"xx = {xx}\")"
   ]
  },
  {
   "cell_type": "code",
   "execution_count": 7,
   "metadata": {},
   "outputs": [
    {
     "name": "stdout",
     "output_type": "stream",
     "text": [
      "negative_x = Value(data=-5.0, grad=0)\n"
     ]
    }
   ],
   "source": [
    "negative_x = -x\n",
    "print(f\"negative_x = {negative_x}\")"
   ]
  },
  {
   "cell_type": "code",
   "execution_count": 8,
   "metadata": {},
   "outputs": [
    {
     "name": "stdout",
     "output_type": "stream",
     "text": [
      "x2 = Value(data=10.0, grad=0)\n"
     ]
    }
   ],
   "source": [
    "x2 = x * 2\n",
    "print(f\"x2 = {x2}\")"
   ]
  },
  {
   "cell_type": "code",
   "execution_count": 9,
   "metadata": {},
   "outputs": [
    {
     "name": "stdout",
     "output_type": "stream",
     "text": [
      "two_times_x = Value(data=10.0, grad=0)\n"
     ]
    }
   ],
   "source": [
    "two_times_x = 2 * x\n",
    "print(f\"two_times_x = {two_times_x}\")"
   ]
  },
  {
   "cell_type": "code",
   "execution_count": 10,
   "metadata": {},
   "outputs": [
    {
     "name": "stdout",
     "output_type": "stream",
     "text": [
      "x_raised_to_3 = Value(data=125.0, grad=0)\n"
     ]
    }
   ],
   "source": [
    "x_raised_to_3 = x ** 3\n",
    "print(f\"x_raised_to_3 = {x_raised_to_3}\")"
   ]
  },
  {
   "cell_type": "code",
   "execution_count": 11,
   "metadata": {},
   "outputs": [
    {
     "name": "stdout",
     "output_type": "stream",
     "text": [
      "x_divided_by_2 = Value(data=2.5, grad=0)\n"
     ]
    }
   ],
   "source": [
    "x_divided_by_2 = x / 2\n",
    "print(f\"x_divided_by_2 = {x_divided_by_2}\")"
   ]
  },
  {
   "cell_type": "code",
   "execution_count": 12,
   "metadata": {},
   "outputs": [
    {
     "name": "stdout",
     "output_type": "stream",
     "text": [
      "x = Value(data=5.0, grad=0)\n",
      "two_divided_by_x = Value(data=0.4, grad=0)\n"
     ]
    }
   ],
   "source": [
    "two_divided_by_x = 2.0 / x\n",
    "print(f\"x = {x}\")\n",
    "print(f\"two_divided_by_x = {two_divided_by_x}\")"
   ]
  },
  {
   "cell_type": "code",
   "execution_count": 13,
   "metadata": {},
   "outputs": [
    {
     "name": "stdout",
     "output_type": "stream",
     "text": [
      "three_minus_x = Value(data=-2.0, grad=0)\n"
     ]
    }
   ],
   "source": [
    "three_minus_x = 3 - x\n",
    "print(f\"three_minus_x = {three_minus_x}\")"
   ]
  },
  {
   "cell_type": "code",
   "execution_count": 14,
   "metadata": {},
   "outputs": [
    {
     "name": "stdout",
     "output_type": "stream",
     "text": [
      "x.relu() = Value(data=3.0, grad=0)\n",
      "y.relu() = Value(data=0, grad=0)\n"
     ]
    }
   ],
   "source": [
    "x = Value(3.0)\n",
    "y = Value(-1)\n",
    "\n",
    "print(f\"x.relu() = {x.relu()}\")\n",
    "print(f\"y.relu() = {y.relu()}\")"
   ]
  },
  {
   "cell_type": "code",
   "execution_count": 15,
   "metadata": {},
   "outputs": [
    {
     "name": "stdout",
     "output_type": "stream",
     "text": [
      "y = Value(data=3.0, grad=0)\n"
     ]
    },
    {
     "data": {
      "image/svg+xml": [
       "<?xml version=\"1.0\" encoding=\"UTF-8\" standalone=\"no\"?>\n",
       "<!DOCTYPE svg PUBLIC \"-//W3C//DTD SVG 1.1//EN\"\n",
       " \"http://www.w3.org/Graphics/SVG/1.1/DTD/svg11.dtd\">\n",
       "<!-- Generated by graphviz version 2.43.0 (0)\n",
       " -->\n",
       "<!-- Title: %3 Pages: 1 -->\n",
       "<svg width=\"1279pt\" height=\"128pt\"\n",
       " viewBox=\"0.00 0.00 1278.79 128.00\" xmlns=\"http://www.w3.org/2000/svg\" xmlns:xlink=\"http://www.w3.org/1999/xlink\">\n",
       "<g id=\"graph0\" class=\"graph\" transform=\"scale(1 1) rotate(0) translate(4 124)\">\n",
       "<title>%3</title>\n",
       "<polygon fill=\"white\" stroke=\"transparent\" points=\"-4,4 -4,-124 1274.79,-124 1274.79,4 -4,4\"/>\n",
       "<!-- 131567262869520 -->\n",
       "<g id=\"node1\" class=\"node\">\n",
       "<title>131567262869520</title>\n",
       "<polygon fill=\"none\" stroke=\"black\" points=\"12.5,-83.5 12.5,-119.5 218.5,-119.5 218.5,-83.5 12.5,-83.5\"/>\n",
       "<text text-anchor=\"middle\" x=\"63.5\" y=\"-97.8\" font-family=\"Times,serif\" font-size=\"14.00\">data 2.0000</text>\n",
       "<polyline fill=\"none\" stroke=\"black\" points=\"114.5,-83.5 114.5,-119.5 \"/>\n",
       "<text text-anchor=\"middle\" x=\"166.5\" y=\"-97.8\" font-family=\"Times,serif\" font-size=\"14.00\">grad 1.0000</text>\n",
       "</g>\n",
       "<!-- 131567262872832* -->\n",
       "<g id=\"node7\" class=\"node\">\n",
       "<title>131567262872832*</title>\n",
       "<ellipse fill=\"none\" stroke=\"black\" cx=\"294\" cy=\"-73.5\" rx=\"27\" ry=\"18\"/>\n",
       "<text text-anchor=\"middle\" x=\"294\" y=\"-69.8\" font-family=\"Times,serif\" font-size=\"14.00\">*</text>\n",
       "</g>\n",
       "<!-- 131567262869520&#45;&gt;131567262872832* -->\n",
       "<g id=\"edge4\" class=\"edge\">\n",
       "<title>131567262869520&#45;&gt;131567262872832*</title>\n",
       "<path fill=\"none\" stroke=\"black\" d=\"M218.66,-85.29C232.55,-83.09 245.97,-80.96 257.49,-79.13\"/>\n",
       "<polygon fill=\"black\" stroke=\"black\" points=\"258.18,-82.57 267.5,-77.54 257.08,-75.65 258.18,-82.57\"/>\n",
       "</g>\n",
       "<!-- 131567262869136 -->\n",
       "<g id=\"node2\" class=\"node\">\n",
       "<title>131567262869136</title>\n",
       "<polygon fill=\"none\" stroke=\"black\" points=\"689,-27.5 689,-63.5 895,-63.5 895,-27.5 689,-27.5\"/>\n",
       "<text text-anchor=\"middle\" x=\"740\" y=\"-41.8\" font-family=\"Times,serif\" font-size=\"14.00\">data 3.0000</text>\n",
       "<polyline fill=\"none\" stroke=\"black\" points=\"791,-27.5 791,-63.5 \"/>\n",
       "<text text-anchor=\"middle\" x=\"843\" y=\"-41.8\" font-family=\"Times,serif\" font-size=\"14.00\">grad 1.0000</text>\n",
       "</g>\n",
       "<!-- 131567262869952ReLU -->\n",
       "<g id=\"node9\" class=\"node\">\n",
       "<title>131567262869952ReLU</title>\n",
       "<ellipse fill=\"none\" stroke=\"black\" cx=\"967.4\" cy=\"-45.5\" rx=\"36.29\" ry=\"18\"/>\n",
       "<text text-anchor=\"middle\" x=\"967.4\" y=\"-41.8\" font-family=\"Times,serif\" font-size=\"14.00\">ReLU</text>\n",
       "</g>\n",
       "<!-- 131567262869136&#45;&gt;131567262869952ReLU -->\n",
       "<g id=\"edge7\" class=\"edge\">\n",
       "<title>131567262869136&#45;&gt;131567262869952ReLU</title>\n",
       "<path fill=\"none\" stroke=\"black\" d=\"M895.12,-45.5C904.01,-45.5 912.68,-45.5 920.74,-45.5\"/>\n",
       "<polygon fill=\"black\" stroke=\"black\" points=\"920.95,-49 930.95,-45.5 920.95,-42 920.95,-49\"/>\n",
       "</g>\n",
       "<!-- 131567262869136+ -->\n",
       "<g id=\"node3\" class=\"node\">\n",
       "<title>131567262869136+</title>\n",
       "<ellipse fill=\"none\" stroke=\"black\" cx=\"626\" cy=\"-45.5\" rx=\"27\" ry=\"18\"/>\n",
       "<text text-anchor=\"middle\" x=\"626\" y=\"-41.8\" font-family=\"Times,serif\" font-size=\"14.00\">+</text>\n",
       "</g>\n",
       "<!-- 131567262869136+&#45;&gt;131567262869136 -->\n",
       "<g id=\"edge1\" class=\"edge\">\n",
       "<title>131567262869136+&#45;&gt;131567262869136</title>\n",
       "<path fill=\"none\" stroke=\"black\" d=\"M653.35,-45.5C660.8,-45.5 669.4,-45.5 678.61,-45.5\"/>\n",
       "<polygon fill=\"black\" stroke=\"black\" points=\"678.8,-49 688.8,-45.5 678.8,-42 678.8,-49\"/>\n",
       "</g>\n",
       "<!-- 131567262872784 -->\n",
       "<g id=\"node4\" class=\"node\">\n",
       "<title>131567262872784</title>\n",
       "<polygon fill=\"none\" stroke=\"black\" points=\"357,-0.5 357,-36.5 563,-36.5 563,-0.5 357,-0.5\"/>\n",
       "<text text-anchor=\"middle\" x=\"408\" y=\"-14.8\" font-family=\"Times,serif\" font-size=\"14.00\">data 1.0000</text>\n",
       "<polyline fill=\"none\" stroke=\"black\" points=\"459,-0.5 459,-36.5 \"/>\n",
       "<text text-anchor=\"middle\" x=\"511\" y=\"-14.8\" font-family=\"Times,serif\" font-size=\"14.00\">grad 1.0000</text>\n",
       "</g>\n",
       "<!-- 131567262872784&#45;&gt;131567262869136+ -->\n",
       "<g id=\"edge5\" class=\"edge\">\n",
       "<title>131567262872784&#45;&gt;131567262869136+</title>\n",
       "<path fill=\"none\" stroke=\"black\" d=\"M563.47,-35.37C572.74,-36.9 581.64,-38.36 589.65,-39.68\"/>\n",
       "<polygon fill=\"black\" stroke=\"black\" points=\"589.19,-43.15 599.63,-41.32 590.33,-36.24 589.19,-43.15\"/>\n",
       "</g>\n",
       "<!-- 131567262873312 -->\n",
       "<g id=\"node5\" class=\"node\">\n",
       "<title>131567262873312</title>\n",
       "<polygon fill=\"none\" stroke=\"black\" points=\"0,-28.5 0,-64.5 231,-64.5 231,-28.5 0,-28.5\"/>\n",
       "<text text-anchor=\"middle\" x=\"12.5\" y=\"-42.8\" font-family=\"Times,serif\" font-size=\"14.00\">x</text>\n",
       "<polyline fill=\"none\" stroke=\"black\" points=\"25,-28.5 25,-64.5 \"/>\n",
       "<text text-anchor=\"middle\" x=\"76\" y=\"-42.8\" font-family=\"Times,serif\" font-size=\"14.00\">data 1.0000</text>\n",
       "<polyline fill=\"none\" stroke=\"black\" points=\"127,-28.5 127,-64.5 \"/>\n",
       "<text text-anchor=\"middle\" x=\"179\" y=\"-42.8\" font-family=\"Times,serif\" font-size=\"14.00\">grad 2.0000</text>\n",
       "</g>\n",
       "<!-- 131567262873312&#45;&gt;131567262872832* -->\n",
       "<g id=\"edge6\" class=\"edge\">\n",
       "<title>131567262873312&#45;&gt;131567262872832*</title>\n",
       "<path fill=\"none\" stroke=\"black\" d=\"M231.27,-64.06C240.61,-65.49 249.51,-66.85 257.5,-68.07\"/>\n",
       "<polygon fill=\"black\" stroke=\"black\" points=\"257.03,-71.54 267.44,-69.59 258.09,-64.62 257.03,-71.54\"/>\n",
       "</g>\n",
       "<!-- 131567262872832 -->\n",
       "<g id=\"node6\" class=\"node\">\n",
       "<title>131567262872832</title>\n",
       "<polygon fill=\"none\" stroke=\"black\" points=\"357,-55.5 357,-91.5 563,-91.5 563,-55.5 357,-55.5\"/>\n",
       "<text text-anchor=\"middle\" x=\"408\" y=\"-69.8\" font-family=\"Times,serif\" font-size=\"14.00\">data 2.0000</text>\n",
       "<polyline fill=\"none\" stroke=\"black\" points=\"459,-55.5 459,-91.5 \"/>\n",
       "<text text-anchor=\"middle\" x=\"511\" y=\"-69.8\" font-family=\"Times,serif\" font-size=\"14.00\">grad 1.0000</text>\n",
       "</g>\n",
       "<!-- 131567262872832&#45;&gt;131567262869136+ -->\n",
       "<g id=\"edge8\" class=\"edge\">\n",
       "<title>131567262872832&#45;&gt;131567262869136+</title>\n",
       "<path fill=\"none\" stroke=\"black\" d=\"M563.47,-56.01C572.74,-54.42 581.64,-52.9 589.65,-51.54\"/>\n",
       "<polygon fill=\"black\" stroke=\"black\" points=\"590.36,-54.97 599.63,-49.83 589.18,-48.07 590.36,-54.97\"/>\n",
       "</g>\n",
       "<!-- 131567262872832*&#45;&gt;131567262872832 -->\n",
       "<g id=\"edge2\" class=\"edge\">\n",
       "<title>131567262872832*&#45;&gt;131567262872832</title>\n",
       "<path fill=\"none\" stroke=\"black\" d=\"M321.35,-73.5C328.8,-73.5 337.4,-73.5 346.61,-73.5\"/>\n",
       "<polygon fill=\"black\" stroke=\"black\" points=\"346.8,-77 356.8,-73.5 346.8,-70 346.8,-77\"/>\n",
       "</g>\n",
       "<!-- 131567262869952 -->\n",
       "<g id=\"node8\" class=\"node\">\n",
       "<title>131567262869952</title>\n",
       "<polygon fill=\"none\" stroke=\"black\" points=\"1039.79,-27.5 1039.79,-63.5 1270.79,-63.5 1270.79,-27.5 1039.79,-27.5\"/>\n",
       "<text text-anchor=\"middle\" x=\"1052.29\" y=\"-41.8\" font-family=\"Times,serif\" font-size=\"14.00\">y</text>\n",
       "<polyline fill=\"none\" stroke=\"black\" points=\"1064.79,-27.5 1064.79,-63.5 \"/>\n",
       "<text text-anchor=\"middle\" x=\"1115.79\" y=\"-41.8\" font-family=\"Times,serif\" font-size=\"14.00\">data 3.0000</text>\n",
       "<polyline fill=\"none\" stroke=\"black\" points=\"1166.79,-27.5 1166.79,-63.5 \"/>\n",
       "<text text-anchor=\"middle\" x=\"1218.79\" y=\"-41.8\" font-family=\"Times,serif\" font-size=\"14.00\">grad 1.0000</text>\n",
       "</g>\n",
       "<!-- 131567262869952ReLU&#45;&gt;131567262869952 -->\n",
       "<g id=\"edge3\" class=\"edge\">\n",
       "<title>131567262869952ReLU&#45;&gt;131567262869952</title>\n",
       "<path fill=\"none\" stroke=\"black\" d=\"M1003.8,-45.5C1011.61,-45.5 1020.32,-45.5 1029.5,-45.5\"/>\n",
       "<polygon fill=\"black\" stroke=\"black\" points=\"1029.63,-49 1039.63,-45.5 1029.63,-42 1029.63,-49\"/>\n",
       "</g>\n",
       "</g>\n",
       "</svg>\n"
      ],
      "text/plain": [
       "<graphviz.graphs.Digraph at 0x77a8e80fb620>"
      ]
     },
     "execution_count": 15,
     "metadata": {},
     "output_type": "execute_result"
    }
   ],
   "source": [
    "x = Value(1.0, label='x')\n",
    "y = (x * 2 + 1).relu()\n",
    "y.label = 'y'\n",
    "print(f\"y = {y}\")\n",
    "\n",
    "y.grad = 1.0\n",
    "y.backward()\n",
    "draw_dot(y)"
   ]
  },
  {
   "cell_type": "code",
   "execution_count": 16,
   "metadata": {},
   "outputs": [],
   "source": [
    "import random\n",
    "from micrograd import nn\n",
    "\n",
    "random.seed(1337)\n",
    "n = nn.Neuron(2)\n"
   ]
  },
  {
   "cell_type": "code",
   "execution_count": 17,
   "metadata": {},
   "outputs": [
    {
     "name": "stdout",
     "output_type": "stream",
     "text": [
      "Value(data=0.102443419482938, grad=0)\n"
     ]
    }
   ],
   "source": [
    "x = [Value(1.0), Value(-2.0)]\n",
    "y = n(x)\n",
    "print(y)"
   ]
  },
  {
   "cell_type": "code",
   "execution_count": 18,
   "metadata": {},
   "outputs": [
    {
     "name": "stdout",
     "output_type": "stream",
     "text": [
      "Value(data=0.102443419482938, grad=1)\n"
     ]
    }
   ],
   "source": [
    "y.backward()\n",
    "print(y)"
   ]
  },
  {
   "cell_type": "code",
   "execution_count": 19,
   "metadata": {},
   "outputs": [
    {
     "data": {
      "image/svg+xml": [
       "<?xml version=\"1.0\" encoding=\"UTF-8\" standalone=\"no\"?>\n",
       "<!DOCTYPE svg PUBLIC \"-//W3C//DTD SVG 1.1//EN\"\n",
       " \"http://www.w3.org/Graphics/SVG/1.1/DTD/svg11.dtd\">\n",
       "<!-- Generated by graphviz version 2.43.0 (0)\n",
       " -->\n",
       "<!-- Title: %3 Pages: 1 -->\n",
       "<svg width=\"1571pt\" height=\"238pt\"\n",
       " viewBox=\"0.00 0.00 1570.79 238.00\" xmlns=\"http://www.w3.org/2000/svg\" xmlns:xlink=\"http://www.w3.org/1999/xlink\">\n",
       "<g id=\"graph0\" class=\"graph\" transform=\"scale(1 1) rotate(0) translate(4 234)\">\n",
       "<title>%3</title>\n",
       "<polygon fill=\"white\" stroke=\"transparent\" points=\"-4,4 -4,-234 1566.79,-234 1566.79,4 -4,4\"/>\n",
       "<!-- 131567352818208 -->\n",
       "<g id=\"node1\" class=\"node\">\n",
       "<title>131567352818208</title>\n",
       "<polygon fill=\"none\" stroke=\"black\" points=\"0,-193.5 0,-229.5 206,-229.5 206,-193.5 0,-193.5\"/>\n",
       "<text text-anchor=\"middle\" x=\"51\" y=\"-207.8\" font-family=\"Times,serif\" font-size=\"14.00\">data 0.2355</text>\n",
       "<polyline fill=\"none\" stroke=\"black\" points=\"102,-193.5 102,-229.5 \"/>\n",
       "<text text-anchor=\"middle\" x=\"154\" y=\"-207.8\" font-family=\"Times,serif\" font-size=\"14.00\">grad 1.0000</text>\n",
       "</g>\n",
       "<!-- 131567262871008* -->\n",
       "<g id=\"node15\" class=\"node\">\n",
       "<title>131567262871008*</title>\n",
       "<ellipse fill=\"none\" stroke=\"black\" cx=\"269\" cy=\"-183.5\" rx=\"27\" ry=\"18\"/>\n",
       "<text text-anchor=\"middle\" x=\"269\" y=\"-179.8\" font-family=\"Times,serif\" font-size=\"14.00\">*</text>\n",
       "</g>\n",
       "<!-- 131567352818208&#45;&gt;131567262871008* -->\n",
       "<g id=\"edge10\" class=\"edge\">\n",
       "<title>131567352818208&#45;&gt;131567262871008*</title>\n",
       "<path fill=\"none\" stroke=\"black\" d=\"M206.47,-194.01C215.74,-192.42 224.64,-190.9 232.65,-189.54\"/>\n",
       "<polygon fill=\"black\" stroke=\"black\" points=\"233.36,-192.97 242.63,-187.83 232.18,-186.07 233.36,-192.97\"/>\n",
       "</g>\n",
       "<!-- 131567262875184 -->\n",
       "<g id=\"node2\" class=\"node\">\n",
       "<title>131567262875184</title>\n",
       "<polygon fill=\"none\" stroke=\"black\" points=\"669,-55.5 669,-91.5 880,-91.5 880,-55.5 669,-55.5\"/>\n",
       "<text text-anchor=\"middle\" x=\"722.5\" y=\"-69.8\" font-family=\"Times,serif\" font-size=\"14.00\">data &#45;0.1331</text>\n",
       "<polyline fill=\"none\" stroke=\"black\" points=\"776,-55.5 776,-91.5 \"/>\n",
       "<text text-anchor=\"middle\" x=\"828\" y=\"-69.8\" font-family=\"Times,serif\" font-size=\"14.00\">grad 1.0000</text>\n",
       "</g>\n",
       "<!-- 131567262875376+ -->\n",
       "<g id=\"node7\" class=\"node\">\n",
       "<title>131567262875376+</title>\n",
       "<ellipse fill=\"none\" stroke=\"black\" cx=\"943\" cy=\"-100.5\" rx=\"27\" ry=\"18\"/>\n",
       "<text text-anchor=\"middle\" x=\"943\" y=\"-96.8\" font-family=\"Times,serif\" font-size=\"14.00\">+</text>\n",
       "</g>\n",
       "<!-- 131567262875184&#45;&gt;131567262875376+ -->\n",
       "<g id=\"edge8\" class=\"edge\">\n",
       "<title>131567262875184&#45;&gt;131567262875376+</title>\n",
       "<path fill=\"none\" stroke=\"black\" d=\"M880,-90.45C889.36,-91.96 898.33,-93.42 906.41,-94.73\"/>\n",
       "<polygon fill=\"black\" stroke=\"black\" points=\"906.03,-98.21 916.46,-96.36 907.15,-91.3 906.03,-98.21\"/>\n",
       "</g>\n",
       "<!-- 131567262875184* -->\n",
       "<g id=\"node3\" class=\"node\">\n",
       "<title>131567262875184*</title>\n",
       "<ellipse fill=\"none\" stroke=\"black\" cx=\"606\" cy=\"-73.5\" rx=\"27\" ry=\"18\"/>\n",
       "<text text-anchor=\"middle\" x=\"606\" y=\"-69.8\" font-family=\"Times,serif\" font-size=\"14.00\">*</text>\n",
       "</g>\n",
       "<!-- 131567262875184*&#45;&gt;131567262875184 -->\n",
       "<g id=\"edge1\" class=\"edge\">\n",
       "<title>131567262875184*&#45;&gt;131567262875184</title>\n",
       "<path fill=\"none\" stroke=\"black\" d=\"M633.02,-73.5C640.62,-73.5 649.46,-73.5 658.93,-73.5\"/>\n",
       "<polygon fill=\"black\" stroke=\"black\" points=\"659,-77 669,-73.5 659,-70 659,-77\"/>\n",
       "</g>\n",
       "<!-- 131567262868080 -->\n",
       "<g id=\"node4\" class=\"node\">\n",
       "<title>131567262868080</title>\n",
       "<polygon fill=\"none\" stroke=\"black\" points=\"332.5,-55.5 332.5,-91.5 542.5,-91.5 542.5,-55.5 332.5,-55.5\"/>\n",
       "<text text-anchor=\"middle\" x=\"383.5\" y=\"-69.8\" font-family=\"Times,serif\" font-size=\"14.00\">data 0.0665</text>\n",
       "<polyline fill=\"none\" stroke=\"black\" points=\"434.5,-55.5 434.5,-91.5 \"/>\n",
       "<text text-anchor=\"middle\" x=\"488.5\" y=\"-69.8\" font-family=\"Times,serif\" font-size=\"14.00\">grad &#45;2.0000</text>\n",
       "</g>\n",
       "<!-- 131567262868080&#45;&gt;131567262875184* -->\n",
       "<g id=\"edge13\" class=\"edge\">\n",
       "<title>131567262868080&#45;&gt;131567262875184*</title>\n",
       "<path fill=\"none\" stroke=\"black\" d=\"M542.53,-73.5C551.85,-73.5 560.8,-73.5 568.88,-73.5\"/>\n",
       "<polygon fill=\"black\" stroke=\"black\" points=\"568.94,-77 578.94,-73.5 568.94,-70 568.94,-77\"/>\n",
       "</g>\n",
       "<!-- 131567353288832 -->\n",
       "<g id=\"node5\" class=\"node\">\n",
       "<title>131567353288832</title>\n",
       "<polygon fill=\"none\" stroke=\"black\" points=\"334.5,-110.5 334.5,-146.5 540.5,-146.5 540.5,-110.5 334.5,-110.5\"/>\n",
       "<text text-anchor=\"middle\" x=\"385.5\" y=\"-124.8\" font-family=\"Times,serif\" font-size=\"14.00\">data 0.0000</text>\n",
       "<polyline fill=\"none\" stroke=\"black\" points=\"436.5,-110.5 436.5,-146.5 \"/>\n",
       "<text text-anchor=\"middle\" x=\"488.5\" y=\"-124.8\" font-family=\"Times,serif\" font-size=\"14.00\">grad 1.0000</text>\n",
       "</g>\n",
       "<!-- 131567262869232+ -->\n",
       "<g id=\"node9\" class=\"node\">\n",
       "<title>131567262869232+</title>\n",
       "<ellipse fill=\"none\" stroke=\"black\" cx=\"606\" cy=\"-128.5\" rx=\"27\" ry=\"18\"/>\n",
       "<text text-anchor=\"middle\" x=\"606\" y=\"-124.8\" font-family=\"Times,serif\" font-size=\"14.00\">+</text>\n",
       "</g>\n",
       "<!-- 131567353288832&#45;&gt;131567262869232+ -->\n",
       "<g id=\"edge6\" class=\"edge\">\n",
       "<title>131567353288832&#45;&gt;131567262869232+</title>\n",
       "<path fill=\"none\" stroke=\"black\" d=\"M540.63,-128.5C550.68,-128.5 560.34,-128.5 568.99,-128.5\"/>\n",
       "<polygon fill=\"black\" stroke=\"black\" points=\"568.99,-132 578.99,-128.5 568.99,-125 568.99,-132\"/>\n",
       "</g>\n",
       "<!-- 131567262875376 -->\n",
       "<g id=\"node6\" class=\"node\">\n",
       "<title>131567262875376</title>\n",
       "<polygon fill=\"none\" stroke=\"black\" points=\"1006,-82.5 1006,-118.5 1212,-118.5 1212,-82.5 1006,-82.5\"/>\n",
       "<text text-anchor=\"middle\" x=\"1057\" y=\"-96.8\" font-family=\"Times,serif\" font-size=\"14.00\">data 0.1024</text>\n",
       "<polyline fill=\"none\" stroke=\"black\" points=\"1108,-82.5 1108,-118.5 \"/>\n",
       "<text text-anchor=\"middle\" x=\"1160\" y=\"-96.8\" font-family=\"Times,serif\" font-size=\"14.00\">grad 1.0000</text>\n",
       "</g>\n",
       "<!-- 131567262871872ReLU -->\n",
       "<g id=\"node11\" class=\"node\">\n",
       "<title>131567262871872ReLU</title>\n",
       "<ellipse fill=\"none\" stroke=\"black\" cx=\"1284.4\" cy=\"-100.5\" rx=\"36.29\" ry=\"18\"/>\n",
       "<text text-anchor=\"middle\" x=\"1284.4\" y=\"-96.8\" font-family=\"Times,serif\" font-size=\"14.00\">ReLU</text>\n",
       "</g>\n",
       "<!-- 131567262875376&#45;&gt;131567262871872ReLU -->\n",
       "<g id=\"edge11\" class=\"edge\">\n",
       "<title>131567262875376&#45;&gt;131567262871872ReLU</title>\n",
       "<path fill=\"none\" stroke=\"black\" d=\"M1212.12,-100.5C1221.01,-100.5 1229.68,-100.5 1237.74,-100.5\"/>\n",
       "<polygon fill=\"black\" stroke=\"black\" points=\"1237.95,-104 1247.95,-100.5 1237.95,-97 1237.95,-104\"/>\n",
       "</g>\n",
       "<!-- 131567262875376+&#45;&gt;131567262875376 -->\n",
       "<g id=\"edge2\" class=\"edge\">\n",
       "<title>131567262875376+&#45;&gt;131567262875376</title>\n",
       "<path fill=\"none\" stroke=\"black\" d=\"M970.35,-100.5C977.8,-100.5 986.4,-100.5 995.61,-100.5\"/>\n",
       "<polygon fill=\"black\" stroke=\"black\" points=\"995.8,-104 1005.8,-100.5 995.8,-97 995.8,-104\"/>\n",
       "</g>\n",
       "<!-- 131567262869232 -->\n",
       "<g id=\"node8\" class=\"node\">\n",
       "<title>131567262869232</title>\n",
       "<polygon fill=\"none\" stroke=\"black\" points=\"671.5,-110.5 671.5,-146.5 877.5,-146.5 877.5,-110.5 671.5,-110.5\"/>\n",
       "<text text-anchor=\"middle\" x=\"722.5\" y=\"-124.8\" font-family=\"Times,serif\" font-size=\"14.00\">data 0.2355</text>\n",
       "<polyline fill=\"none\" stroke=\"black\" points=\"773.5,-110.5 773.5,-146.5 \"/>\n",
       "<text text-anchor=\"middle\" x=\"825.5\" y=\"-124.8\" font-family=\"Times,serif\" font-size=\"14.00\">grad 1.0000</text>\n",
       "</g>\n",
       "<!-- 131567262869232&#45;&gt;131567262875376+ -->\n",
       "<g id=\"edge9\" class=\"edge\">\n",
       "<title>131567262869232&#45;&gt;131567262875376+</title>\n",
       "<path fill=\"none\" stroke=\"black\" d=\"M877.63,-111.33C887.87,-109.6 897.71,-107.95 906.48,-106.47\"/>\n",
       "<polygon fill=\"black\" stroke=\"black\" points=\"907.32,-109.88 916.6,-104.77 906.16,-102.98 907.32,-109.88\"/>\n",
       "</g>\n",
       "<!-- 131567262869232+&#45;&gt;131567262869232 -->\n",
       "<g id=\"edge3\" class=\"edge\">\n",
       "<title>131567262869232+&#45;&gt;131567262869232</title>\n",
       "<path fill=\"none\" stroke=\"black\" d=\"M633.02,-128.5C641.26,-128.5 650.96,-128.5 661.35,-128.5\"/>\n",
       "<polygon fill=\"black\" stroke=\"black\" points=\"661.49,-132 671.49,-128.5 661.49,-125 661.49,-132\"/>\n",
       "</g>\n",
       "<!-- 131567262871872 -->\n",
       "<g id=\"node10\" class=\"node\">\n",
       "<title>131567262871872</title>\n",
       "<polygon fill=\"none\" stroke=\"black\" points=\"1356.79,-82.5 1356.79,-118.5 1562.79,-118.5 1562.79,-82.5 1356.79,-82.5\"/>\n",
       "<text text-anchor=\"middle\" x=\"1407.79\" y=\"-96.8\" font-family=\"Times,serif\" font-size=\"14.00\">data 0.1024</text>\n",
       "<polyline fill=\"none\" stroke=\"black\" points=\"1458.79,-82.5 1458.79,-118.5 \"/>\n",
       "<text text-anchor=\"middle\" x=\"1510.79\" y=\"-96.8\" font-family=\"Times,serif\" font-size=\"14.00\">grad 1.0000</text>\n",
       "</g>\n",
       "<!-- 131567262871872ReLU&#45;&gt;131567262871872 -->\n",
       "<g id=\"edge4\" class=\"edge\">\n",
       "<title>131567262871872ReLU&#45;&gt;131567262871872</title>\n",
       "<path fill=\"none\" stroke=\"black\" d=\"M1320.9,-100.5C1328.76,-100.5 1337.5,-100.5 1346.64,-100.5\"/>\n",
       "<polygon fill=\"black\" stroke=\"black\" points=\"1346.71,-104 1356.71,-100.5 1346.71,-97 1346.71,-104\"/>\n",
       "</g>\n",
       "<!-- 131567262871920 -->\n",
       "<g id=\"node12\" class=\"node\">\n",
       "<title>131567262871920</title>\n",
       "<polygon fill=\"none\" stroke=\"black\" points=\"0,-138.5 0,-174.5 206,-174.5 206,-138.5 0,-138.5\"/>\n",
       "<text text-anchor=\"middle\" x=\"51\" y=\"-152.8\" font-family=\"Times,serif\" font-size=\"14.00\">data 1.0000</text>\n",
       "<polyline fill=\"none\" stroke=\"black\" points=\"102,-138.5 102,-174.5 \"/>\n",
       "<text text-anchor=\"middle\" x=\"154\" y=\"-152.8\" font-family=\"Times,serif\" font-size=\"14.00\">grad 0.2355</text>\n",
       "</g>\n",
       "<!-- 131567262871920&#45;&gt;131567262871008* -->\n",
       "<g id=\"edge7\" class=\"edge\">\n",
       "<title>131567262871920&#45;&gt;131567262871008*</title>\n",
       "<path fill=\"none\" stroke=\"black\" d=\"M206.47,-173.37C215.74,-174.9 224.64,-176.36 232.65,-177.68\"/>\n",
       "<polygon fill=\"black\" stroke=\"black\" points=\"232.19,-181.15 242.63,-179.32 233.33,-174.24 232.19,-181.15\"/>\n",
       "</g>\n",
       "<!-- 131567262874512 -->\n",
       "<g id=\"node13\" class=\"node\">\n",
       "<title>131567262874512</title>\n",
       "<polygon fill=\"none\" stroke=\"black\" points=\"332,-0.5 332,-36.5 543,-36.5 543,-0.5 332,-0.5\"/>\n",
       "<text text-anchor=\"middle\" x=\"385.5\" y=\"-14.8\" font-family=\"Times,serif\" font-size=\"14.00\">data &#45;2.0000</text>\n",
       "<polyline fill=\"none\" stroke=\"black\" points=\"439,-0.5 439,-36.5 \"/>\n",
       "<text text-anchor=\"middle\" x=\"491\" y=\"-14.8\" font-family=\"Times,serif\" font-size=\"14.00\">grad 0.0665</text>\n",
       "</g>\n",
       "<!-- 131567262874512&#45;&gt;131567262875184* -->\n",
       "<g id=\"edge12\" class=\"edge\">\n",
       "<title>131567262874512&#45;&gt;131567262875184*</title>\n",
       "<path fill=\"none\" stroke=\"black\" d=\"M511.44,-36.55C522.11,-39.62 532.89,-42.97 543,-46.5 553.31,-50.1 564.31,-54.65 574.14,-58.98\"/>\n",
       "<polygon fill=\"black\" stroke=\"black\" points=\"572.95,-62.29 583.51,-63.2 575.83,-55.9 572.95,-62.29\"/>\n",
       "</g>\n",
       "<!-- 131567262871008 -->\n",
       "<g id=\"node14\" class=\"node\">\n",
       "<title>131567262871008</title>\n",
       "<polygon fill=\"none\" stroke=\"black\" points=\"334.5,-165.5 334.5,-201.5 540.5,-201.5 540.5,-165.5 334.5,-165.5\"/>\n",
       "<text text-anchor=\"middle\" x=\"385.5\" y=\"-179.8\" font-family=\"Times,serif\" font-size=\"14.00\">data 0.2355</text>\n",
       "<polyline fill=\"none\" stroke=\"black\" points=\"436.5,-165.5 436.5,-201.5 \"/>\n",
       "<text text-anchor=\"middle\" x=\"488.5\" y=\"-179.8\" font-family=\"Times,serif\" font-size=\"14.00\">grad 1.0000</text>\n",
       "</g>\n",
       "<!-- 131567262871008&#45;&gt;131567262869232+ -->\n",
       "<g id=\"edge14\" class=\"edge\">\n",
       "<title>131567262871008&#45;&gt;131567262869232+</title>\n",
       "<path fill=\"none\" stroke=\"black\" d=\"M514.59,-165.47C524.23,-162.71 533.9,-159.7 543,-156.5 553.55,-152.78 564.79,-147.99 574.75,-143.41\"/>\n",
       "<polygon fill=\"black\" stroke=\"black\" points=\"576.28,-146.56 583.85,-139.14 573.31,-140.22 576.28,-146.56\"/>\n",
       "</g>\n",
       "<!-- 131567262871008*&#45;&gt;131567262871008 -->\n",
       "<g id=\"edge5\" class=\"edge\">\n",
       "<title>131567262871008*&#45;&gt;131567262871008</title>\n",
       "<path fill=\"none\" stroke=\"black\" d=\"M296.02,-183.5C304.26,-183.5 313.96,-183.5 324.35,-183.5\"/>\n",
       "<polygon fill=\"black\" stroke=\"black\" points=\"324.49,-187 334.49,-183.5 324.49,-180 324.49,-187\"/>\n",
       "</g>\n",
       "</g>\n",
       "</svg>\n"
      ],
      "text/plain": [
       "<graphviz.graphs.Digraph at 0x77a8e3f7b8f0>"
      ]
     },
     "execution_count": 19,
     "metadata": {},
     "output_type": "execute_result"
    }
   ],
   "source": [
    "dot = draw_dot(y)\n",
    "dot"
   ]
  }
 ],
 "metadata": {
  "kernelspec": {
   "display_name": "learn_gpt",
   "language": "python",
   "name": "python3"
  },
  "language_info": {
   "codemirror_mode": {
    "name": "ipython",
    "version": 3
   },
   "file_extension": ".py",
   "mimetype": "text/x-python",
   "name": "python",
   "nbconvert_exporter": "python",
   "pygments_lexer": "ipython3",
   "version": "3.12.8"
  }
 },
 "nbformat": 4,
 "nbformat_minor": 2
}

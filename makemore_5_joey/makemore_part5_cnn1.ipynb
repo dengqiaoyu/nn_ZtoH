{
 "cells": [
  {
   "cell_type": "code",
   "execution_count": 2,
   "id": "0f50244e",
   "metadata": {},
   "outputs": [],
   "source": [
    "from typing import Final\n",
    "import torch\n",
    "import torch.nn.functional as F\n",
    "import matplotlib.pyplot as plt\n",
    "%matplotlib inline\n"
   ]
  },
  {
   "cell_type": "code",
   "execution_count": 3,
   "id": "6c5faf5e",
   "metadata": {},
   "outputs": [],
   "source": [
    "words: Final[list[str]] = open(\"names.txt\", 'r').read().splitlines()\n",
    "chars: Final[list[str]] = sorted(list(set(''.join(words))))\n",
    "stoi: Final[dict[str, int]] = {char: i + 1 for i, char in enumerate(chars)}\n",
    "stoi['.'] = 0\n",
    "itos: Final[dict[int, str]] = {i: char for char, i in stoi.items()}\n",
    "char_cnt: Final[int] = len(stoi)\n"
   ]
  },
  {
   "cell_type": "code",
   "execution_count": 4,
   "id": "e28a1e27",
   "metadata": {},
   "outputs": [],
   "source": [
    "def create_dataset(words: list[str], block_size: int) -> tuple[torch.Tensor, torch.Tensor]:\n",
    "    X: list[list[int]] = []\n",
    "    Y: list[int] = []\n",
    "    for word in words:\n",
    "        context: list[int] = [0] * block_size\n",
    "        for ix in word + '.':\n",
    "            X.append(context)\n",
    "            Y.append(stoi[ix])\n",
    "            context = context[1:] + [stoi[ix]]\n",
    "    X_t = torch.tensor(X)\n",
    "    Y_t = torch.tensor(Y)\n",
    "    print(X_t.shape, Y_t.shape)\n",
    "    return torch.tensor(X), torch.tensor(Y)\n"
   ]
  },
  {
   "cell_type": "code",
   "execution_count": 5,
   "id": "c7002443",
   "metadata": {},
   "outputs": [],
   "source": [
    "device: Final[torch.device] = torch.device('cuda' if torch.cuda.is_available() else 'cpu')\n"
   ]
  },
  {
   "cell_type": "code",
   "execution_count": 6,
   "id": "82331cde",
   "metadata": {},
   "outputs": [
    {
     "name": "stdout",
     "output_type": "stream",
     "text": [
      "torch.Size([182625, 3]) torch.Size([182625])\n",
      "torch.Size([22655, 3]) torch.Size([22655])\n",
      "torch.Size([22866, 3]) torch.Size([22866])\n"
     ]
    }
   ],
   "source": [
    "import random\n",
    "random.seed(42)\n",
    "random.shuffle(words)\n",
    "\n",
    "block_size: Final[int] = 3 # context length\n",
    "train_set_ratio: float = 0.8\n",
    "valid_set_ratio: float = 0.1\n",
    "test_set_ratio: float = 0.1\n",
    "\n",
    "n1: int = int(len(words) * train_set_ratio)\n",
    "n2: int = int(len(words) * (train_set_ratio + valid_set_ratio))\n",
    "\n",
    "X_train, Y_train = create_dataset(words[:n1], block_size)\n",
    "X_val, Y_val = create_dataset(words[n1:n2], block_size)\n",
    "X_test, Y_test = create_dataset(words[n2:], block_size)\n",
    "\n",
    "X_train = X_train.to(device)\n",
    "Y_train = Y_train.to(device)\n",
    "X_val = X_val.to(device)\n",
    "Y_val = Y_val.to(device)\n",
    "X_test = X_test.to(device)\n",
    "Y_test = Y_test.to(device)\n"
   ]
  },
  {
   "cell_type": "code",
   "execution_count": 7,
   "id": "128c5682",
   "metadata": {},
   "outputs": [],
   "source": [
    "class Linear:\n",
    "\n",
    "    def __init__(self, fan_in: int, fan_out: int, bias: bool = True) -> None:\n",
    "        # self.weight = (torch.randn((fan_in, fan_out)) / (fan_in ** 0.5)).to(device)\n",
    "        self.weight = (torch.randn((fan_in, fan_out))).to(device)\n",
    "\n",
    "        self.bias = torch.zeros(fan_out).to(device) if bias else None\n",
    "\n",
    "    def __call__(self, x: torch.Tensor) -> torch.Tensor:\n",
    "        self.out: torch.Tensor = x @ self.weight\n",
    "        if self.bias is not None:\n",
    "            self.out += self.bias\n",
    "        return self.out\n",
    "\n",
    "    @property\n",
    "    def parameters(self) -> list[torch.Tensor]:\n",
    "        return [self.weight] + ([] if self.bias is None else [self.bias])\n",
    "\n",
    "class BatchNorm1d:\n",
    "\n",
    "    def __init__(self, dim: int, eps: float = 1e-5,\n",
    "                 momentum: float = 0.1) -> None:\n",
    "        # Hyperparameters\n",
    "        self.eps: float = eps\n",
    "        self.momentum: float = momentum\n",
    "        self.training: bool = True\n",
    "\n",
    "        # Parameters (trainable):\n",
    "        # gamma and beta are like the weight and bias in a linear layer\n",
    "        # gamma: scale parameter\n",
    "        self.gamma = torch.ones(dim).to(device)\n",
    "        # beta: shift parameter\n",
    "        self.beta = torch.zeros(dim).to(device)\n",
    "\n",
    "        # Buffers (trained with momentum):\n",
    "        # Start from normal distribution.\n",
    "        self.running_mean: torch.Tensor = torch.zeros(dim).to(device)\n",
    "        self.running_var: torch.Tensor = torch.ones(dim).to(device)\n",
    "\n",
    "    def __call__(self, x: torch.Tensor) -> torch.Tensor:\n",
    "        if self.training:\n",
    "            x_mean = x.mean(0, keepdim=True)\n",
    "            x_var = x.var(0, keepdim=True, unbiased=True)\n",
    "        else:\n",
    "            x_mean = self.running_mean\n",
    "            x_var = self.running_var\n",
    "        x_norm = (x - x_mean) / torch.sqrt(x_var + self.eps)\n",
    "        x_norm_scaled: Final[torch.Tensor] = self.gamma * x_norm + self.beta\n",
    "\n",
    "        # Update running mean and variance\n",
    "        if (self.training):\n",
    "            self.running_mean = (1 - self.momentum) * self.running_mean + self.momentum * x_mean\n",
    "            self.running_var = (1 - self.momentum) * self.running_var + self.momentum * x_var\n",
    "\n",
    "        self.out: torch.Tensor = x_norm_scaled\n",
    "        return x_norm_scaled\n",
    "\n",
    "    @property\n",
    "    def parameters(self) -> list[torch.Tensor]:\n",
    "        return [self.gamma, self.beta]\n",
    "\n",
    "class Tanh:\n",
    "\n",
    "    def __call__(self, x: torch.Tensor) -> torch.Tensor:\n",
    "        self.out: torch.Tensor = torch.tanh(x)\n",
    "        return self.out\n",
    "\n",
    "    @property\n",
    "    def parameters(self) -> list[torch.Tensor]:\n",
    "        return []\n"
   ]
  },
  {
   "cell_type": "code",
   "execution_count": 8,
   "id": "c8e77e65",
   "metadata": {},
   "outputs": [
    {
     "data": {
      "text/plain": [
       "<torch._C.Generator at 0x764f8c1c0390>"
      ]
     },
     "execution_count": 8,
     "metadata": {},
     "output_type": "execute_result"
    }
   ],
   "source": [
    "torch.manual_seed(42) # for reproducibility\n"
   ]
  },
  {
   "cell_type": "code",
   "execution_count": 9,
   "id": "cd2ca9aa",
   "metadata": {},
   "outputs": [
    {
     "name": "stdout",
     "output_type": "stream",
     "text": [
      "Number of parameters: 12097\n"
     ]
    }
   ],
   "source": [
    "n_embd: Final[int] = 10 # embedding dimension\n",
    "n_hidden: Final[int] = 200 # hidden layer dimension\n",
    "\n",
    "C = torch.randn((char_cnt, n_embd)).to(device) # embedding matrix\n",
    "layers = [\n",
    "    Linear(n_embd * block_size, n_hidden, bias=False),\n",
    "    BatchNorm1d(n_hidden),\n",
    "    Tanh(),\n",
    "    Linear(n_hidden, char_cnt),\n",
    "]\n",
    "\n",
    "with torch.no_grad():\n",
    "    layers[-1].weight *=0.1 # scale down the output weights\n",
    "\n",
    "parameters: Final[list[torch.Tensor]] = [C] + [p for layer in layers for p in layer.parameters]\n",
    "print(f\"Number of parameters: {sum(p.nelement() for p in parameters)}\")\n",
    "\n",
    "for p in parameters:\n",
    "    p.requires_grad = True\n"
   ]
  },
  {
   "cell_type": "code",
   "execution_count": 10,
   "id": "0ce3b988",
   "metadata": {},
   "outputs": [],
   "source": [
    "@torch.no_grad()\n",
    "def calculate_loss(X: torch.Tensor, Y: torch.Tensor) -> torch.Tensor:\n",
    "    emb = C[X]\n",
    "    x = emb.view(emb.shape[0], -1)\n",
    "    for layer in layers:\n",
    "        x = layer(x)\n",
    "    loss = F.cross_entropy(x, Y)\n",
    "    return loss\n"
   ]
  },
  {
   "cell_type": "code",
   "execution_count": 11,
   "id": "d304e727",
   "metadata": {},
   "outputs": [
    {
     "name": "stdout",
     "output_type": "stream",
     "text": [
      "Epoch 0/200000: loss 3.6888\n",
      "Epoch 10000/200000: loss 2.3009\n",
      "Epoch 20000/200000: loss 2.4809\n",
      "Epoch 30000/200000: loss 2.1013\n",
      "Epoch 40000/200000: loss 2.3755\n",
      "Epoch 50000/200000: loss 2.3313\n",
      "Epoch 60000/200000: loss 1.9352\n",
      "Epoch 70000/200000: loss 1.9633\n",
      "Epoch 80000/200000: loss 2.6929\n",
      "Epoch 90000/200000: loss 1.9952\n",
      "Epoch 100000/200000: loss 2.2131\n",
      "Epoch 110000/200000: loss 1.7323\n",
      "Epoch 120000/200000: loss 2.1854\n",
      "Epoch 130000/200000: loss 2.3165\n",
      "Epoch 140000/200000: loss 2.2703\n",
      "Epoch 150000/200000: loss 1.9787\n",
      "Epoch 160000/200000: loss 1.9070\n",
      "Epoch 170000/200000: loss 2.3622\n",
      "Epoch 180000/200000: loss 2.0201\n",
      "Epoch 190000/200000: loss 2.1299\n"
     ]
    }
   ],
   "source": [
    "max_epochs: Final[int] = 200000\n",
    "batch_size: Final[int] = 32\n",
    "lossi: Final[list[float]] = []\n",
    "\n",
    "for i in range(max_epochs):\n",
    "    # Prepare mini-batch\n",
    "    ix = torch.randint(0, X_train.shape[0], (batch_size,))\n",
    "    X_batch, Y_batch = X_train[ix], Y_train[ix]\n",
    "\n",
    "    # Forward pass\n",
    "    emb = C[X_batch]\n",
    "    emb = emb.view(emb.shape[0], -1) # flatten\n",
    "    for layer in layers:\n",
    "        emb = layer(emb)\n",
    "    logits = emb\n",
    "\n",
    "    # Compute loss\n",
    "    loss = F.cross_entropy(logits, Y_batch)\n",
    "\n",
    "    # Backward pass\n",
    "    for p in parameters:\n",
    "        p.grad = None\n",
    "    loss.backward()\n",
    "\n",
    "    # Update parameters\n",
    "    lr: float = 0.1 if i < 150000 else 0.01 # step learning rate decay\n",
    "    for p in parameters:\n",
    "        assert p.grad is not None\n",
    "        p.data -= lr * p.grad\n",
    "\n",
    "    if i % 10000 == 0:\n",
    "        print(f\"Epoch {i}/{max_epochs}: loss {loss.item():.4f}\")\n",
    "    lossi.append(loss.log10().item())\n"
   ]
  },
  {
   "cell_type": "code",
   "execution_count": 12,
   "id": "f31de411",
   "metadata": {},
   "outputs": [
    {
     "data": {
      "text/plain": [
       "[<matplotlib.lines.Line2D at 0x764f57f265d0>]"
      ]
     },
     "execution_count": 12,
     "metadata": {},
     "output_type": "execute_result"
    },
    {
     "data": {
      "image/png": "[encoded data removed]",
      "text/plain": [
       "<Figure size 640x480 with 1 Axes>"
      ]
     },
     "metadata": {},
     "output_type": "display_data"
    }
   ],
   "source": [
    "plt.plot(lossi)\n"
   ]
  },
  {
   "cell_type": "code",
   "execution_count": 13,
   "id": "c1f14d8a",
   "metadata": {},
   "outputs": [
    {
     "data": {
      "text/plain": [
       "torch.Size([200])"
      ]
     },
     "execution_count": 13,
     "metadata": {},
     "output_type": "execute_result"
    }
   ],
   "source": [
    "torch.tensor(lossi).view(-1, 1000).mean(dim=1).shape\n"
   ]
  },
  {
   "cell_type": "code",
   "execution_count": 14,
   "id": "f304f635",
   "metadata": {},
   "outputs": [
    {
     "name": "stdout",
     "output_type": "stream",
     "text": [
      "Train set loss: 2.104525566101074\n",
      "Validation set loss: 2.134878158569336\n",
      "Test set loss: 2.133871555328369\n"
     ]
    }
   ],
   "source": [
    "for layer in layers:\n",
    "    layer.training = False # set to evaluation mode\n",
    "\n",
    "print(f\"Train set loss: {calculate_loss(X_train, Y_train).item()}\")\n",
    "print(f\"Validation set loss: {calculate_loss(X_val, Y_val).item()}\")\n",
    "print(f\"Test set loss: {calculate_loss(X_test, Y_test).item()}\")\n"
   ]
  },
  {
   "cell_type": "code",
   "execution_count": 15,
   "id": "6e84f8d9",
   "metadata": {},
   "outputs": [],
   "source": [
    "@torch.no_grad()\n",
    "def sample(num_samples: int) ->list[str]:\n",
    "    names: list[str] = []\n",
    "    for _ in range(num_samples):\n",
    "        out: list[str] = []\n",
    "        context: list[int] = [0] * block_size\n",
    "        while True:\n",
    "            emb = C[torch.tensor(context).to(device)]\n",
    "            emb = emb.view(1, -1)\n",
    "            for layer in layers:\n",
    "                emb = layer(emb)\n",
    "            logits = emb\n",
    "            probs = F.softmax(logits, dim=1)\n",
    "            ix: int = int(torch.multinomial(probs, num_samples=1).item())\n",
    "            out.append(itos[ix])\n",
    "            context = context[1:] + [ix]\n",
    "            if ix == 0:\n",
    "                break\n",
    "        names.append(''.join(out))\n",
    "    return names\n"
   ]
  },
  {
   "cell_type": "code",
   "execution_count": 16,
   "id": "4c2cdae3",
   "metadata": {},
   "outputs": [
    {
     "name": "stdout",
     "output_type": "stream",
     "text": [
      "krisa\n",
      "elle\n",
      "rapeena\n",
      "gar\n",
      "ever\n",
      "mairishaishaibellive\n",
      "breigh\n",
      "murgemin\n",
      "wyson\n",
      "olon\n",
      "mauniciah\n",
      "sai\n",
      "smin\n",
      "viesena\n",
      "mir\n",
      "laty\n",
      "kahcy\n",
      "dot\n",
      "don\n",
      "makeelun\n"
     ]
    }
   ],
   "source": [
    "names: list[str] = sample(20)\n",
    "for name in names:\n",
    "    print(name[:-1])\n"
   ]
  },
  {
   "cell_type": "code",
   "execution_count": 17,
   "id": "9b063005",
   "metadata": {},
   "outputs": [
    {
     "data": {
      "text/plain": [
       "[<matplotlib.lines.Line2D at 0x764f0d9c47d0>]"
      ]
     },
     "execution_count": 17,
     "metadata": {},
     "output_type": "execute_result"
    },
    {
     "data": {
      "image/png": "[encoded data removed]",
      "text/plain": [
       "<Figure size 640x480 with 1 Axes>"
      ]
     },
     "metadata": {},
     "output_type": "display_data"
    }
   ],
   "source": [
    "# Make lossi more readable\n",
    "\n",
    "lossi_ts = torch.tensor(lossi).view(-1, 1000)\n",
    "lossi_ts = lossi_ts.mean(dim=1)\n",
    "lossi_ts.shape\n",
    "\n",
    "plt.plot(lossi_ts)\n"
   ]
  },
  {
   "cell_type": "code",
   "execution_count": 18,
   "id": "e95ca8c8",
   "metadata": {},
   "outputs": [],
   "source": [
    "# Put most operations into the layers\n",
    "\n",
    "class Sequential:\n",
    "\n",
    "    def __init__(self, layers: list) -> None:\n",
    "        self.layers: Final[list] = layers\n",
    "\n",
    "    def __call__(self, x: torch.Tensor) -> torch.Tensor:\n",
    "        for layer in self.layers:\n",
    "            x = layer(x)\n",
    "        self.out: torch.Tensor = x\n",
    "        return self.out\n",
    "\n",
    "    @property\n",
    "    def parameters(self) -> list[torch.Tensor]:\n",
    "        # Flatten the list of parameters\n",
    "        return [\n",
    "            p\n",
    "            for layer in self.layers\n",
    "            for p in layer.parameters\n",
    "        ]\n",
    "\n",
    "class Embedding:\n",
    "\n",
    "    def __init__(self, num_embeddings: int, embedding_dim) -> None:\n",
    "        self.weight: torch.Tensor = torch.randn((num_embeddings,\n",
    "                                                 embedding_dim)).to(device)\n",
    "\n",
    "    def __call__(self, IX:torch.Tensor) -> torch.Tensor:\n",
    "        self.out: torch.Tensor = self.weight[IX]\n",
    "        return self.out\n",
    "\n",
    "    @property\n",
    "    def parameters(self) -> list[torch.Tensor]:\n",
    "        return [self.weight]\n",
    "\n",
    "class Flatten:\n",
    "\n",
    "    def __call__(self, X: torch.Tensor) -> torch.Tensor:\n",
    "        self.out: torch.Tensor = X.view(X.shape[0], -1)\n",
    "        return self.out\n",
    "\n",
    "    @property\n",
    "    def parameters(self) -> list[torch.Tensor]:\n",
    "        return []\n",
    "\n",
    "class Linear:\n",
    "\n",
    "    def __init__(self, fan_in: int, fan_out: int, bias: bool = True) -> None:\n",
    "        # self.weight = (torch.randn((fan_in, fan_out)) / (fan_in ** 0.5)).to(device)\n",
    "        self.weight = (torch.randn((fan_in, fan_out))).to(device)\n",
    "\n",
    "        self.bias = torch.zeros(fan_out).to(device) if bias else None\n",
    "\n",
    "    def __call__(self, x: torch.Tensor) -> torch.Tensor:\n",
    "        self.out: torch.Tensor = x @ self.weight\n",
    "        if self.bias is not None:\n",
    "            self.out += self.bias\n",
    "        return self.out\n",
    "\n",
    "    @property\n",
    "    def parameters(self) -> list[torch.Tensor]:\n",
    "        return [self.weight] + ([] if self.bias is None else [self.bias])\n",
    "\n",
    "class BatchNorm1d:\n",
    "\n",
    "    def __init__(self, dim: int, eps: float = 1e-5,\n",
    "                 momentum: float = 0.1) -> None:\n",
    "        # Hyperparameters\n",
    "        self.eps: float = eps\n",
    "        self.momentum: float = momentum\n",
    "        self.training: bool = True\n",
    "\n",
    "        # Parameters (trainable):\n",
    "        # gamma and beta are like the weight and bias in a linear layer\n",
    "        # gamma: scale parameter\n",
    "        self.gamma = torch.ones(dim).to(device)\n",
    "        # beta: shift parameter\n",
    "        self.beta = torch.zeros(dim).to(device)\n",
    "\n",
    "        # Buffers (trained with momentum):\n",
    "        # Start from normal distribution.\n",
    "        self.running_mean: torch.Tensor = torch.zeros(dim).to(device)\n",
    "        self.running_var: torch.Tensor = torch.ones(dim).to(device)\n",
    "\n",
    "    def __call__(self, x: torch.Tensor) -> torch.Tensor:\n",
    "        if self.training:\n",
    "            x_mean = x.mean(0, keepdim=True)\n",
    "            x_var = x.var(0, keepdim=True, unbiased=True)\n",
    "        else:\n",
    "            x_mean = self.running_mean\n",
    "            x_var = self.running_var\n",
    "        x_norm = (x - x_mean) / torch.sqrt(x_var + self.eps)\n",
    "        x_norm_scaled: Final[torch.Tensor] = self.gamma * x_norm + self.beta\n",
    "\n",
    "        # Update running mean and variance\n",
    "        if (self.training):\n",
    "            self.running_mean = (1 - self.momentum) * self.running_mean + self.momentum * x_mean\n",
    "            self.running_var = (1 - self.momentum) * self.running_var + self.momentum * x_var\n",
    "\n",
    "        self.out: torch.Tensor = x_norm_scaled\n",
    "        return x_norm_scaled\n",
    "\n",
    "    @property\n",
    "    def parameters(self) -> list[torch.Tensor]:\n",
    "        return [self.gamma, self.beta]\n",
    "\n",
    "class Tanh:\n",
    "\n",
    "    def __call__(self, x: torch.Tensor) -> torch.Tensor:\n",
    "        self.out: torch.Tensor = torch.tanh(x)\n",
    "        return self.out\n",
    "\n",
    "    @property\n",
    "    def parameters(self) -> list[torch.Tensor]:\n",
    "        return []\n"
   ]
  },
  {
   "cell_type": "code",
   "execution_count": 19,
   "id": "c5d05b6c",
   "metadata": {},
   "outputs": [
    {
     "name": "stdout",
     "output_type": "stream",
     "text": [
      "Number of parameters: 12097\n",
      "Epoch 0/200000: loss 3.5089\n",
      "Epoch 10000/200000: loss 2.1750\n",
      "Epoch 20000/200000: loss 2.0775\n",
      "Epoch 30000/200000: loss 2.3283\n",
      "Epoch 40000/200000: loss 2.3805\n",
      "Epoch 50000/200000: loss 2.1920\n",
      "Epoch 60000/200000: loss 2.1515\n",
      "Epoch 70000/200000: loss 2.1820\n",
      "Epoch 80000/200000: loss 1.7992\n",
      "Epoch 90000/200000: loss 2.0823\n",
      "Epoch 100000/200000: loss 1.8045\n",
      "Epoch 110000/200000: loss 2.2518\n",
      "Epoch 120000/200000: loss 2.1124\n",
      "Epoch 130000/200000: loss 2.0809\n",
      "Epoch 140000/200000: loss 2.0724\n",
      "Epoch 150000/200000: loss 2.1768\n",
      "Epoch 160000/200000: loss 2.3006\n",
      "Epoch 170000/200000: loss 2.0417\n",
      "Epoch 180000/200000: loss 2.1600\n",
      "Epoch 190000/200000: loss 2.1788\n"
     ]
    }
   ],
   "source": [
    "n_embd: Final[int] = 10 # embedding dimension\n",
    "n_hidden: Final[int] = 200 # hidden layer dimension\n",
    "\n",
    "model = Sequential([\n",
    "    Embedding(char_cnt, n_embd),\n",
    "    Flatten(),\n",
    "    Linear(n_embd * block_size, n_hidden, bias=False),\n",
    "    BatchNorm1d(n_hidden),\n",
    "    Tanh(),\n",
    "    Linear(n_hidden, char_cnt),\n",
    "])\n",
    "\n",
    "with torch.no_grad():\n",
    "    model.layers[-1].weight *=0.1 # scale down the output weights\n",
    "\n",
    "parameters: Final[list[torch.Tensor]] = model.parameters\n",
    "print(f\"Number of parameters: {sum(p.nelement() for p in parameters)}\")\n",
    "\n",
    "for p in parameters:\n",
    "    p.requires_grad = True\n",
    "\n",
    "max_epochs: Final[int] = 200000\n",
    "batch_size: Final[int] = 32\n",
    "lossi: Final[list[float]] = []\n",
    "\n",
    "for i in range(max_epochs):\n",
    "    # Prepare mini-batch\n",
    "    ix = torch.randint(0, X_train.shape[0], (batch_size,))\n",
    "    X_batch, Y_batch = X_train[ix], Y_train[ix]\n",
    "\n",
    "    # Forward pass\n",
    "    logits = model(X_batch)\n",
    "\n",
    "    # Compute loss\n",
    "    loss = F.cross_entropy(logits, Y_batch)\n",
    "\n",
    "    # Backward pass\n",
    "    for p in parameters:\n",
    "        p.grad = None\n",
    "    loss.backward()\n",
    "\n",
    "    # Update parameters\n",
    "    lr: float = 0.1 if i < 150000 else 0.01 # step learning rate decay\n",
    "    for p in parameters:\n",
    "        assert p.grad is not None\n",
    "        p.data -= lr * p.grad\n",
    "\n",
    "    if i % 10000 == 0:\n",
    "        print(f\"Epoch {i}/{max_epochs}: loss {loss.item():.4f}\")\n",
    "    lossi.append(loss.log10().item())"
   ]
  },
  {
   "cell_type": "code",
   "execution_count": 20,
   "id": "dcc63ae0",
   "metadata": {},
   "outputs": [
    {
     "name": "stdout",
     "output_type": "stream",
     "text": [
      "Train set loss: 2.1094396114349365\n",
      "Validation set loss: 2.139803886413574\n",
      "Test set loss: 2.135458469390869\n"
     ]
    }
   ],
   "source": [
    "for layer in model.layers:\n",
    "    layer.training = False # set to evaluation mode\n",
    "\n",
    "@torch.no_grad()\n",
    "def calculate_loss(X: torch.Tensor, Y: torch.Tensor) -> torch.Tensor:\n",
    "    logits = model(X)\n",
    "    loss = F.cross_entropy(logits, Y)\n",
    "    return loss\n",
    "\n",
    "print(f\"Train set loss: {calculate_loss(X_train, Y_train).item()}\")\n",
    "print(f\"Validation set loss: {calculate_loss(X_val, Y_val).item()}\")\n",
    "print(f\"Test set loss: {calculate_loss(X_test, Y_test).item()}\")"
   ]
  },
  {
   "cell_type": "code",
   "execution_count": 21,
   "id": "b0797166",
   "metadata": {},
   "outputs": [],
   "source": [
    "@torch.no_grad()\n",
    "def sample(num_samples: int) ->list[str]:\n",
    "    names: list[str] = []\n",
    "    for _ in range(num_samples):\n",
    "        out: list[str] = []\n",
    "        context: list[int] = [0] * block_size\n",
    "        while True:\n",
    "            logits = model(torch.tensor([context]).to(device))\n",
    "            probs = F.softmax(logits, dim=1)\n",
    "            ix: int = int(torch.multinomial(probs, num_samples=1).item())\n",
    "            out.append(itos[ix])\n",
    "            context = context[1:] + [ix]\n",
    "            if ix == 0:\n",
    "                break\n",
    "        names.append(''.join(out))\n",
    "    return names\n"
   ]
  },
  {
   "cell_type": "code",
   "execution_count": 22,
   "id": "863b02ae",
   "metadata": {},
   "outputs": [
    {
     "name": "stdout",
     "output_type": "stream",
     "text": [
      "edi\n",
      "jedi\n",
      "hazthan\n",
      "azary\n",
      "keyarty\n",
      "josyn\n",
      "gtany\n",
      "zar\n",
      "rise\n",
      "gween\n",
      "darelia\n",
      "nasiddarariah\n",
      "lorel\n",
      "chritza\n",
      "janne\n",
      "kellanna\n",
      "lay\n",
      "julion\n",
      "senna\n",
      "king\n"
     ]
    }
   ],
   "source": [
    "names: list[str] = sample(20)\n",
    "for name in names:\n",
    "    print(name[:-1])\n"
   ]
  },
  {
   "cell_type": "code",
   "execution_count": 23,
   "id": "37bb4efc",
   "metadata": {},
   "outputs": [
    {
     "name": "stdout",
     "output_type": "stream",
     "text": [
      "torch.Size([182625, 8]) torch.Size([182625])\n",
      "torch.Size([22655, 8]) torch.Size([22655])\n",
      "torch.Size([22866, 8]) torch.Size([22866])\n"
     ]
    }
   ],
   "source": [
    "# Now increase the context length to from 3 to 8\n",
    "\n",
    "block_size: Final[int] = 8 # context length\n",
    "train_set_ratio: float = 0.8\n",
    "valid_set_ratio: float = 0.1\n",
    "test_set_ratio: float = 0.1\n",
    "\n",
    "n1: int = int(len(words) * train_set_ratio)\n",
    "n2: int = int(len(words) * (train_set_ratio + valid_set_ratio))\n",
    "\n",
    "X_train, Y_train = create_dataset(words[:n1], block_size)\n",
    "X_val, Y_val = create_dataset(words[n1:n2], block_size)\n",
    "X_test, Y_test = create_dataset(words[n2:], block_size)\n",
    "\n",
    "X_train = X_train.to(device)\n",
    "Y_train = Y_train.to(device)\n",
    "X_val = X_val.to(device)\n",
    "Y_val = Y_val.to(device)\n",
    "X_test = X_test.to(device)\n",
    "Y_test = Y_test.to(device)\n"
   ]
  },
  {
   "cell_type": "code",
   "execution_count": null,
   "id": "8567923a",
   "metadata": {},
   "outputs": [
    {
     "name": "stdout",
     "output_type": "stream",
     "text": [
      "........ -> y\n",
      ".......y -> u\n",
      "......yu -> h\n",
      ".....yuh -> e\n",
      "....yuhe -> n\n",
      "...yuhen -> g\n",
      "..yuheng -> .\n",
      "........ -> d\n",
      ".......d -> i\n",
      "......di -> o\n",
      ".....dio -> n\n",
      "....dion -> d\n",
      "...diond -> r\n",
      "..diondr -> e\n",
      ".diondre -> .\n",
      "........ -> x\n",
      ".......x -> a\n",
      "......xa -> v\n",
      ".....xav -> i\n",
      "....xavi -> e\n"
     ]
    }
   ],
   "source": [
    "for x, y in zip(X_train[:20], Y_train[:20]):\n",
    "    print(''.join(itos[int(ix.item())] for ix in x), '->', itos[int(y.item())])\n"
   ]
  },
  {
   "cell_type": "code",
   "execution_count": 27,
   "id": "d375bb58",
   "metadata": {},
   "outputs": [
    {
     "name": "stdout",
     "output_type": "stream",
     "text": [
      "Number of parameters: 22097\n",
      "Epoch 0/200000: loss 3.7524\n",
      "Epoch 10000/200000: loss 2.3424\n",
      "Epoch 20000/200000: loss 2.0180\n",
      "Epoch 30000/200000: loss 2.2392\n",
      "Epoch 40000/200000: loss 2.4045\n",
      "Epoch 50000/200000: loss 2.1976\n",
      "Epoch 60000/200000: loss 2.0351\n",
      "Epoch 70000/200000: loss 2.1820\n",
      "Epoch 80000/200000: loss 2.4553\n",
      "Epoch 90000/200000: loss 1.9582\n",
      "Epoch 100000/200000: loss 2.5674\n",
      "Epoch 110000/200000: loss 2.1315\n",
      "Epoch 120000/200000: loss 2.0687\n",
      "Epoch 130000/200000: loss 2.0962\n",
      "Epoch 140000/200000: loss 1.9740\n",
      "Epoch 150000/200000: loss 2.7992\n",
      "Epoch 160000/200000: loss 2.4496\n",
      "Epoch 170000/200000: loss 1.9271\n",
      "Epoch 180000/200000: loss 1.8445\n",
      "Epoch 190000/200000: loss 1.9705\n"
     ]
    }
   ],
   "source": [
    "n_embd: Final[int] = 10 # embedding dimension\n",
    "n_hidden: Final[int] = 200 # hidden layer dimension\n",
    "\n",
    "model = Sequential([\n",
    "    Embedding(char_cnt, n_embd),\n",
    "    Flatten(),\n",
    "    Linear(n_embd * block_size, n_hidden, bias=False),\n",
    "    BatchNorm1d(n_hidden),\n",
    "    Tanh(),\n",
    "    Linear(n_hidden, char_cnt),\n",
    "])\n",
    "\n",
    "with torch.no_grad():\n",
    "    model.layers[-1].weight *=0.1 # scale down the output weights\n",
    "\n",
    "parameters: Final[list[torch.Tensor]] = model.parameters\n",
    "print(f\"Number of parameters: {sum(p.nelement() for p in parameters)}\")\n",
    "\n",
    "for p in parameters:\n",
    "    p.requires_grad = True\n",
    "\n",
    "max_epochs: Final[int] = 200000\n",
    "batch_size: Final[int] = 32\n",
    "lossi: Final[list[float]] = []\n",
    "\n",
    "for i in range(max_epochs):\n",
    "    # Prepare mini-batch\n",
    "    ix = torch.randint(0, X_train.shape[0], (batch_size,))\n",
    "    X_batch, Y_batch = X_train[ix], Y_train[ix]\n",
    "\n",
    "    # Forward pass\n",
    "    logits = model(X_batch)\n",
    "\n",
    "    # Compute loss\n",
    "    loss = F.cross_entropy(logits, Y_batch)\n",
    "\n",
    "    # Backward pass\n",
    "    for p in parameters:\n",
    "        p.grad = None\n",
    "    loss.backward()\n",
    "\n",
    "    # Update parameters\n",
    "    lr: float = 0.1 if i < 150000 else 0.01 # step learning rate decay\n",
    "    for p in parameters:\n",
    "        assert p.grad is not None\n",
    "        p.data -= lr * p.grad\n",
    "\n",
    "    if i % 10000 == 0:\n",
    "        print(f\"Epoch {i}/{max_epochs}: loss {loss.item():.4f}\")\n",
    "    lossi.append(loss.log10().item())\n"
   ]
  },
  {
   "cell_type": "code",
   "execution_count": 28,
   "id": "ffb76bb9",
   "metadata": {},
   "outputs": [
    {
     "name": "stdout",
     "output_type": "stream",
     "text": [
      "Train set loss: 2.069547176361084\n",
      "Validation set loss: 2.1081295013427734\n",
      "Test set loss: 2.1076202392578125\n"
     ]
    }
   ],
   "source": [
    "for layer in model.layers:\n",
    "    layer.training = False # set to evaluation mode\n",
    "\n",
    "@torch.no_grad()\n",
    "def calculate_loss(X: torch.Tensor, Y: torch.Tensor) -> torch.Tensor:\n",
    "    logits = model(X)\n",
    "    loss = F.cross_entropy(logits, Y)\n",
    "    return loss\n",
    "\n",
    "print(f\"Train set loss: {calculate_loss(X_train, Y_train).item()}\")\n",
    "print(f\"Validation set loss: {calculate_loss(X_val, Y_val).item()}\")\n",
    "print(f\"Test set loss: {calculate_loss(X_test, Y_test).item()}\")\n"
   ]
  },
  {
   "cell_type": "code",
   "execution_count": 29,
   "id": "b475aec1",
   "metadata": {},
   "outputs": [
    {
     "name": "stdout",
     "output_type": "stream",
     "text": [
      "X_batch shape: torch.Size([4, 8])\n"
     ]
    },
    {
     "data": {
      "text/plain": [
       "tensor([[ 0,  0,  0,  0,  0,  5, 12,  9],\n",
       "        [ 0,  0,  0,  0,  0,  0,  0, 19],\n",
       "        [ 0,  0,  0,  0,  0, 11,  5,  1],\n",
       "        [ 0,  0,  0,  0,  0,  0,  4, 15]], device='cuda:0')"
      ]
     },
     "execution_count": 29,
     "metadata": {},
     "output_type": "execute_result"
    }
   ],
   "source": [
    "# Let's look at a batch of just 4 examples\n",
    "ix = torch.randint(0, X_train.shape[0], (4,))\n",
    "X_batch, Y_batch = X_train[ix], Y_train[ix]\n",
    "logits = model(X_batch)\n",
    "print(f\"X_batch shape: {X_batch.shape}\")\n",
    "X_batch"
   ]
  },
  {
   "cell_type": "code",
   "execution_count": 30,
   "id": "2b3ff98f",
   "metadata": {},
   "outputs": [
    {
     "data": {
      "text/plain": [
       "torch.Size([4, 8, 10])"
      ]
     },
     "execution_count": 30,
     "metadata": {},
     "output_type": "execute_result"
    }
   ],
   "source": [
    "# Output of Embedding layer\n",
    "model.layers[0].out.shape\n"
   ]
  },
  {
   "cell_type": "code",
   "execution_count": 31,
   "id": "12a9f1cb",
   "metadata": {},
   "outputs": [
    {
     "data": {
      "text/plain": [
       "torch.Size([4, 80])"
      ]
     },
     "execution_count": 31,
     "metadata": {},
     "output_type": "execute_result"
    }
   ],
   "source": [
    "# Output of Flatten layer\n",
    "model.layers[1].out.shape\n"
   ]
  },
  {
   "cell_type": "code",
   "execution_count": 32,
   "id": "d9bb5170",
   "metadata": {},
   "outputs": [
    {
     "data": {
      "text/plain": [
       "torch.Size([4, 200])"
      ]
     },
     "execution_count": 32,
     "metadata": {},
     "output_type": "execute_result"
    }
   ],
   "source": [
    "# Output of Linear layer\n",
    "model.layers[2].out.shape\n"
   ]
  },
  {
   "cell_type": "code",
   "execution_count": 33,
   "id": "2ede6765",
   "metadata": {},
   "outputs": [
    {
     "data": {
      "text/plain": [
       "torch.Size([4, 5, 200])"
      ]
     },
     "execution_count": 33,
     "metadata": {},
     "output_type": "execute_result"
    }
   ],
   "source": [
    "# Matrix multiplication also works for matrices that are more than 2D\n",
    "# For example, if we have a 3D tensor and a 2D tensor\n",
    "(torch.randn(4, 5, 80) @ torch.randn(80, 200) + torch.randn(200)).shape\n"
   ]
  },
  {
   "cell_type": "code",
   "execution_count": 35,
   "id": "bf05bd6e",
   "metadata": {},
   "outputs": [
    {
     "data": {
      "text/plain": [
       "torch.Size([4, 5, 2, 200])"
      ]
     },
     "execution_count": 35,
     "metadata": {},
     "output_type": "execute_result"
    }
   ],
   "source": [
    "# The same applies to 4D tensors\n",
    "(torch.randn(4, 5, 2, 80) @ torch.randn(80, 200) + torch.randn(200)).shape\n"
   ]
  },
  {
   "cell_type": "code",
   "execution_count": 36,
   "id": "280fc921",
   "metadata": {},
   "outputs": [
    {
     "data": {
      "text/plain": [
       "torch.Size([4, 4, 200])"
      ]
     },
     "execution_count": 36,
     "metadata": {},
     "output_type": "execute_result"
    }
   ],
   "source": [
    "# In our wavenet, we want to diffuse 2 characters at a time, for example:\n",
    "(torch.randn(4, 4, 20) @ torch.randn(20, 200) + torch.randn(200)).shape\n"
   ]
  },
  {
   "cell_type": "code",
   "execution_count": 41,
   "id": "604e08a5",
   "metadata": {},
   "outputs": [
    {
     "data": {
      "text/plain": [
       "(torch.Size([4, 4, 10]), torch.Size([4, 4, 10]))"
      ]
     },
     "execution_count": 41,
     "metadata": {},
     "output_type": "execute_result"
    }
   ],
   "source": [
    "# Goal: get (4, 4, 20) from (4, 8, 10)\n",
    "e = torch.randn(4, 8, 10)\n",
    "\n",
    "e[:, ::2, :].shape, e[:, 1::2, :].shape\n"
   ]
  },
  {
   "cell_type": "code",
   "execution_count": 44,
   "id": "98ea28bc",
   "metadata": {},
   "outputs": [
    {
     "data": {
      "text/plain": [
       "torch.Size([4, 4, 20])"
      ]
     },
     "execution_count": 44,
     "metadata": {},
     "output_type": "execute_result"
    }
   ],
   "source": [
    "explicit = torch.cat([e[:, ::2, :], e[:, 1::2, :]], dim=2)\n",
    "explicit.shape\n"
   ]
  },
  {
   "cell_type": "code",
   "execution_count": 43,
   "id": "36291d50",
   "metadata": {},
   "outputs": [
    {
     "data": {
      "text/plain": [
       "torch.Size([4, 4, 20])"
      ]
     },
     "execution_count": 43,
     "metadata": {},
     "output_type": "execute_result"
    }
   ],
   "source": [
    "e.view(4, 4, 20).shape\n"
   ]
  },
  {
   "cell_type": "code",
   "execution_count": 45,
   "id": "bd8a9a5e",
   "metadata": {},
   "outputs": [
    {
     "data": {
      "text/plain": [
       "tensor(True)"
      ]
     },
     "execution_count": 45,
     "metadata": {},
     "output_type": "execute_result"
    }
   ],
   "source": [
    "(e.view(4, 4, 20) == explicit).all()\n"
   ]
  },
  {
   "cell_type": "code",
   "execution_count": 63,
   "id": "cb6b76bd",
   "metadata": {},
   "outputs": [],
   "source": [
    "# Next we will redefine the model to use wavenet architecture:\n",
    "# Change the flatten layer\n",
    "\n",
    "class Sequential:\n",
    "\n",
    "    def __init__(self, layers: list) -> None:\n",
    "        self.layers: Final[list] = layers\n",
    "\n",
    "    def __call__(self, x: torch.Tensor) -> torch.Tensor:\n",
    "        for layer in self.layers:\n",
    "            x = layer(x)\n",
    "        self.out: torch.Tensor = x\n",
    "        return self.out\n",
    "\n",
    "    @property\n",
    "    def parameters(self) -> list[torch.Tensor]:\n",
    "        # Flatten the list of parameters\n",
    "        return [\n",
    "            p\n",
    "            for layer in self.layers\n",
    "            for p in layer.parameters\n",
    "        ]\n",
    "\n",
    "class Embedding:\n",
    "\n",
    "    def __init__(self, num_embeddings: int, embedding_dim) -> None:\n",
    "        self.weight: torch.Tensor = torch.randn((num_embeddings,\n",
    "                                                 embedding_dim)).to(device)\n",
    "\n",
    "    def __call__(self, IX:torch.Tensor) -> torch.Tensor:\n",
    "        self.out: torch.Tensor = self.weight[IX]\n",
    "        return self.out\n",
    "\n",
    "    @property\n",
    "    def parameters(self) -> list[torch.Tensor]:\n",
    "        return [self.weight]\n",
    "\n",
    "class FlattenConsecutive:\n",
    "\n",
    "    def __init__(self, n: int) -> None:\n",
    "        # The number of features to be flatten together.\n",
    "        self.n = n\n",
    "\n",
    "    def __call__(self, X: torch.Tensor) -> torch.Tensor:\n",
    "\n",
    "        n_examples, n_consecutive, n_features = X.shape\n",
    "        X = X.view(n_examples, n_consecutive // self.n, n_features * self.n)\n",
    "        if X.shape[1] == 1:\n",
    "            # If the number of consecutive features is 1, we need to\n",
    "            # remove the second dimension.\n",
    "            X = X.squeeze(1)\n",
    "        self.out: torch.Tensor = X\n",
    "        return self.out\n",
    "\n",
    "    @property\n",
    "    def parameters(self) -> list[torch.Tensor]:\n",
    "        return []\n",
    "\n",
    "class Linear:\n",
    "\n",
    "    def __init__(self, fan_in: int, fan_out: int, bias: bool = True) -> None:\n",
    "        # self.weight = (torch.randn((fan_in, fan_out)) / (fan_in ** 0.5)).to(device)\n",
    "        self.weight = (torch.randn((fan_in, fan_out))).to(device)\n",
    "\n",
    "        self.bias = torch.zeros(fan_out).to(device) if bias else None\n",
    "\n",
    "    def __call__(self, x: torch.Tensor) -> torch.Tensor:\n",
    "        self.out: torch.Tensor = x @ self.weight\n",
    "        if self.bias is not None:\n",
    "            self.out += self.bias\n",
    "        return self.out\n",
    "\n",
    "    @property\n",
    "    def parameters(self) -> list[torch.Tensor]:\n",
    "        return [self.weight] + ([] if self.bias is None else [self.bias])\n",
    "\n",
    "class BatchNorm1d:\n",
    "\n",
    "    def __init__(self, dim: int, eps: float = 1e-5,\n",
    "                 momentum: float = 0.1) -> None:\n",
    "        # Hyperparameters\n",
    "        self.eps: float = eps\n",
    "        self.momentum: float = momentum\n",
    "        self.training: bool = True\n",
    "\n",
    "        # Parameters (trainable):\n",
    "        # gamma and beta are like the weight and bias in a linear layer\n",
    "        # gamma: scale parameter\n",
    "        self.gamma = torch.ones(dim).to(device)\n",
    "        # beta: shift parameter\n",
    "        self.beta = torch.zeros(dim).to(device)\n",
    "\n",
    "        # Buffers (trained with momentum):\n",
    "        # Start from normal distribution.\n",
    "        self.running_mean: torch.Tensor = torch.zeros(dim).to(device)\n",
    "        self.running_var: torch.Tensor = torch.ones(dim).to(device)\n",
    "\n",
    "    def __call__(self, x: torch.Tensor) -> torch.Tensor:\n",
    "        if self.training:\n",
    "            dim = 0\n",
    "            if x.ndim == 2:\n",
    "                dim = 0\n",
    "            elif x.ndim == 3:\n",
    "                dim = (0, 1)\n",
    "            x_mean = x.mean(dim, keepdim=True)\n",
    "            x_var = x.var(dim, keepdim=True, unbiased=True)\n",
    "        else:\n",
    "            x_mean = self.running_mean\n",
    "            x_var = self.running_var\n",
    "        x_norm = (x - x_mean) / torch.sqrt(x_var + self.eps)\n",
    "        x_norm_scaled: Final[torch.Tensor] = self.gamma * x_norm + self.beta\n",
    "\n",
    "        # Update running mean and variance\n",
    "        if (self.training):\n",
    "            self.running_mean = (1 - self.momentum) * self.running_mean + self.momentum * x_mean\n",
    "            self.running_var = (1 - self.momentum) * self.running_var + self.momentum * x_var\n",
    "\n",
    "        self.out: torch.Tensor = x_norm_scaled\n",
    "        return x_norm_scaled\n",
    "\n",
    "    @property\n",
    "    def parameters(self) -> list[torch.Tensor]:\n",
    "        return [self.gamma, self.beta]\n",
    "\n",
    "class Tanh:\n",
    "\n",
    "    def __call__(self, x: torch.Tensor) -> torch.Tensor:\n",
    "        self.out: torch.Tensor = torch.tanh(x)\n",
    "        return self.out\n",
    "\n",
    "    @property\n",
    "    def parameters(self) -> list[torch.Tensor]:\n",
    "        return []\n"
   ]
  },
  {
   "cell_type": "code",
   "execution_count": 64,
   "id": "e5ed90d9",
   "metadata": {},
   "outputs": [
    {
     "name": "stdout",
     "output_type": "stream",
     "text": [
      "Number of parameters: 22397\n"
     ]
    }
   ],
   "source": [
    "n_embd: Final[int] = 10 # embedding dimension\n",
    "n_hidden: Final[int] = 68 # hidden layer dimension\n",
    "\n",
    "model = Sequential([\n",
    "    Embedding(char_cnt, n_embd),\n",
    "    # Dimension 1 will be divided by 2 each time until it reaches 1\n",
    "    # Since we have 8 characters, we will have 4, 2, 1 which is 3 repetitions.\n",
    "    FlattenConsecutive(2), Linear(n_embd * 2,   n_hidden, bias=False), BatchNorm1d(n_hidden), Tanh(),\n",
    "    FlattenConsecutive(2), Linear(n_hidden * 2, n_hidden, bias=False), BatchNorm1d(n_hidden), Tanh(),\n",
    "    FlattenConsecutive(2), Linear(n_hidden * 2, n_hidden, bias=False), BatchNorm1d(n_hidden), Tanh(),\n",
    "    Linear(n_hidden, char_cnt),\n",
    "])\n",
    "\n",
    "with torch.no_grad():\n",
    "    model.layers[-1].weight *=0.1 # scale down the output weights\n",
    "\n",
    "parameters: Final[list[torch.Tensor]] = model.parameters\n",
    "for p in parameters:\n",
    "    p.requires_grad = True\n",
    "print(f\"Number of parameters: {sum(p.nelement() for p in parameters)}\")\n"
   ]
  },
  {
   "cell_type": "code",
   "execution_count": null,
   "id": "a1e313c0",
   "metadata": {},
   "outputs": [
    {
     "name": "stdout",
     "output_type": "stream",
     "text": [
      "X_batch shape: torch.Size([4, 8])\n"
     ]
    },
    {
     "data": {
      "text/plain": [
       "tensor([[ 0,  0,  0,  0,  0,  0,  0, 19],\n",
       "        [ 0,  0,  0,  0, 11,  1, 19,  8],\n",
       "        [ 0,  0,  0,  0,  0,  0,  3,  1],\n",
       "        [ 0,  0,  0,  0,  0,  0,  0,  0]], device='cuda:0')"
      ]
     },
     "execution_count": 53,
     "metadata": {},
     "output_type": "execute_result"
    }
   ],
   "source": [
    "# ix = torch.randint(0, X_train.shape[0], (4,))\n",
    "# X_batch, Y_batch = X_train[ix], Y_train[ix]\n",
    "# logits = model(X_batch)\n",
    "# print(f\"X_batch shape: {X_batch.shape}\")\n",
    "# X_batch\n"
   ]
  },
  {
   "cell_type": "code",
   "execution_count": null,
   "id": "9cd51b36",
   "metadata": {},
   "outputs": [
    {
     "name": "stdout",
     "output_type": "stream",
     "text": [
      "Embedding :  torch.Size([4, 8, 10])\n",
      "FlattenConsecutive :  torch.Size([4, 4, 20])\n",
      "Linear :  torch.Size([4, 4, 200])\n",
      "BatchNorm1d :  torch.Size([4, 4, 200])\n",
      "Tanh :  torch.Size([4, 4, 200])\n",
      "FlattenConsecutive :  torch.Size([4, 2, 400])\n",
      "Linear :  torch.Size([4, 2, 200])\n",
      "BatchNorm1d :  torch.Size([4, 2, 200])\n",
      "Tanh :  torch.Size([4, 2, 200])\n",
      "FlattenConsecutive :  torch.Size([4, 400])\n",
      "Linear :  torch.Size([4, 200])\n",
      "BatchNorm1d :  torch.Size([4, 200])\n",
      "Tanh :  torch.Size([4, 200])\n",
      "Linear :  torch.Size([4, 27])\n"
     ]
    }
   ],
   "source": [
    "# for layer in model.layers:\n",
    "#     print(layer.__class__.__name__, \": \", layer.out.shape)\n"
   ]
  },
  {
   "cell_type": "code",
   "execution_count": 65,
   "id": "b54ce271",
   "metadata": {},
   "outputs": [
    {
     "name": "stdout",
     "output_type": "stream",
     "text": [
      "Epoch 0/200000: loss 3.3489\n",
      "Epoch 10000/200000: loss 2.0137\n",
      "Epoch 20000/200000: loss 1.8955\n",
      "Epoch 30000/200000: loss 2.1967\n",
      "Epoch 40000/200000: loss 2.1274\n",
      "Epoch 50000/200000: loss 1.9054\n",
      "Epoch 60000/200000: loss 1.7957\n",
      "Epoch 70000/200000: loss 2.2776\n",
      "Epoch 80000/200000: loss 2.1244\n",
      "Epoch 90000/200000: loss 2.1727\n",
      "Epoch 100000/200000: loss 1.6592\n",
      "Epoch 110000/200000: loss 2.1407\n",
      "Epoch 120000/200000: loss 1.6821\n",
      "Epoch 130000/200000: loss 1.7696\n",
      "Epoch 140000/200000: loss 2.2767\n",
      "Epoch 150000/200000: loss 1.8784\n",
      "Epoch 160000/200000: loss 1.9729\n",
      "Epoch 170000/200000: loss 2.2779\n",
      "Epoch 180000/200000: loss 2.3269\n",
      "Epoch 190000/200000: loss 2.0493\n"
     ]
    }
   ],
   "source": [
    "max_epochs: Final[int] = 200000\n",
    "batch_size: Final[int] = 32\n",
    "lossi: Final[list[float]] = []\n",
    "\n",
    "for i in range(max_epochs):\n",
    "    # Prepare mini-batch\n",
    "    ix = torch.randint(0, X_train.shape[0], (batch_size,))\n",
    "    X_batch, Y_batch = X_train[ix], Y_train[ix]\n",
    "\n",
    "    # Forward pass\n",
    "    logits = model(X_batch)\n",
    "\n",
    "    # Compute loss\n",
    "    loss = F.cross_entropy(logits, Y_batch)\n",
    "\n",
    "    # Backward pass\n",
    "    for p in parameters:\n",
    "        p.grad = None\n",
    "    loss.backward()\n",
    "\n",
    "    # Update parameters\n",
    "    lr: float = 0.1 if i < 150000 else 0.01 # step learning rate decay\n",
    "    for p in parameters:\n",
    "        assert p.grad is not None\n",
    "        p.data -= lr * p.grad\n",
    "\n",
    "    if i % 10000 == 0:\n",
    "        print(f\"Epoch {i}/{max_epochs}: loss {loss.item():.4f}\")\n",
    "    lossi.append(loss.log10().item())\n"
   ]
  },
  {
   "cell_type": "code",
   "execution_count": 66,
   "id": "8e96926b",
   "metadata": {},
   "outputs": [
    {
     "name": "stdout",
     "output_type": "stream",
     "text": [
      "Train set loss: 2.0582423210144043\n",
      "Validation set loss: 2.101260185241699\n",
      "Test set loss: 2.0950379371643066\n"
     ]
    }
   ],
   "source": [
    "for layer in model.layers:\n",
    "    layer.training = False # set to evaluation mode\n",
    "\n",
    "@torch.no_grad()\n",
    "def calculate_loss(X: torch.Tensor, Y: torch.Tensor) -> torch.Tensor:\n",
    "    logits = model(X)\n",
    "    loss = F.cross_entropy(logits, Y)\n",
    "    return loss\n",
    "\n",
    "print(f\"Train set loss: {calculate_loss(X_train, Y_train).item()}\")\n",
    "print(f\"Validation set loss: {calculate_loss(X_val, Y_val).item()}\")\n",
    "print(f\"Test set loss: {calculate_loss(X_test, Y_test).item()}\")\n"
   ]
  },
  {
   "cell_type": "code",
   "execution_count": 59,
   "id": "52df7ed1",
   "metadata": {},
   "outputs": [
    {
     "name": "stdout",
     "output_type": "stream",
     "text": [
      "Embedding :  torch.Size([22866, 8, 10])\n",
      "FlattenConsecutive :  torch.Size([22866, 4, 20])\n",
      "Linear :  torch.Size([22866, 4, 68])\n",
      "BatchNorm1d :  torch.Size([22866, 4, 68])\n",
      "Tanh :  torch.Size([22866, 4, 68])\n",
      "FlattenConsecutive :  torch.Size([22866, 2, 136])\n",
      "Linear :  torch.Size([22866, 2, 68])\n",
      "BatchNorm1d :  torch.Size([22866, 2, 68])\n",
      "Tanh :  torch.Size([22866, 2, 68])\n",
      "FlattenConsecutive :  torch.Size([22866, 136])\n",
      "Linear :  torch.Size([22866, 68])\n",
      "BatchNorm1d :  torch.Size([22866, 68])\n",
      "Tanh :  torch.Size([22866, 68])\n",
      "Linear :  torch.Size([22866, 27])\n"
     ]
    }
   ],
   "source": [
    "for layer in model.layers:\n",
    "    print(layer.__class__.__name__, \": \", layer.out.shape)\n"
   ]
  },
  {
   "cell_type": "code",
   "execution_count": 60,
   "id": "ff97f3d4",
   "metadata": {},
   "outputs": [
    {
     "name": "stdout",
     "output_type": "stream",
     "text": [
      "e_mean shape: torch.Size([1, 4, 68])\n",
      "e_var shape: torch.Size([1, 4, 68])\n",
      "e_norm shape: torch.Size([32, 4, 68])\n"
     ]
    }
   ],
   "source": [
    "e = torch.randn(32, 4, 68)\n",
    "\n",
    "e_mean = e.mean(0, keepdim=True)\n",
    "print(f\"e_mean shape: {e_mean.shape}\")\n",
    "\n",
    "e_var = e.var(0, keepdim=True, unbiased=True)\n",
    "print(f\"e_var shape: {e_var.shape}\")\n",
    "\n",
    "e_norm = (e - e_mean) / torch.sqrt(e_var + 1e-5)\n",
    "print(f\"e_norm shape: {e_norm.shape}\")\n"
   ]
  },
  {
   "cell_type": "code",
   "execution_count": 61,
   "id": "4d261633",
   "metadata": {},
   "outputs": [
    {
     "name": "stdout",
     "output_type": "stream",
     "text": [
      "e_mean shape: torch.Size([1, 1, 68])\n",
      "e_var shape: torch.Size([1, 1, 68])\n",
      "e_norm shape: torch.Size([32, 4, 68])\n"
     ]
    }
   ],
   "source": [
    "e = torch.randn(32, 4, 68)\n",
    "\n",
    "e_mean = e.mean((0, 1), keepdim=True)\n",
    "print(f\"e_mean shape: {e_mean.shape}\")\n",
    "\n",
    "e_var = e.var((0, 1), keepdim=True, unbiased=True)\n",
    "print(f\"e_var shape: {e_var.shape}\")\n",
    "\n",
    "e_norm = (e - e_mean) / torch.sqrt(e_var + 1e-5)\n",
    "print(f\"e_norm shape: {e_norm.shape}\")\n"
   ]
  },
  {
   "cell_type": "code",
   "execution_count": null,
   "id": "dbba1a6c",
   "metadata": {},
   "outputs": [
    {
     "name": "stdout",
     "output_type": "stream",
     "text": [
      "Number of parameters: 283555\n",
      "Epoch 0/200000: loss 3.8512\n",
      "Epoch 10000/200000: loss 2.0591\n",
      "Epoch 20000/200000: loss 2.1294\n",
      "Epoch 30000/200000: loss 2.0387\n",
      "Epoch 40000/200000: loss 2.0783\n",
      "Epoch 50000/200000: loss 2.0901\n",
      "Epoch 60000/200000: loss 2.1637\n",
      "Epoch 70000/200000: loss 2.1572\n",
      "Epoch 80000/200000: loss 1.9569\n",
      "Epoch 90000/200000: loss 1.9441\n",
      "Epoch 100000/200000: loss 1.9598\n",
      "Epoch 110000/200000: loss 1.8421\n",
      "Epoch 120000/200000: loss 1.9947\n",
      "Epoch 130000/200000: loss 1.9633\n",
      "Epoch 140000/200000: loss 1.8099\n",
      "Epoch 150000/200000: loss 1.9765\n",
      "Epoch 160000/200000: loss 1.8246\n",
      "Epoch 170000/200000: loss 1.6702\n",
      "Epoch 180000/200000: loss 2.0937\n",
      "Epoch 190000/200000: loss 1.9080\n"
     ]
    }
   ],
   "source": [
    "# Now with the new wavenet architecture, we can increase the size of the model\n",
    "\n",
    "n_embd: Final[int] = 24 # embedding dimension\n",
    "n_hidden: Final[int] = 256 # hidden layer dimension\n",
    "\n",
    "model = Sequential([\n",
    "    Embedding(char_cnt, n_embd),\n",
    "    # Dimension 1 will be divided by 2 each time until it reaches 1\n",
    "    # Since we have 8 characters, we will have 4, 2, 1 which is 3 repetitions.\n",
    "    FlattenConsecutive(2), Linear(n_embd * 2,   n_hidden, bias=False), BatchNorm1d(n_hidden), Tanh(),\n",
    "    FlattenConsecutive(2), Linear(n_hidden * 2, n_hidden, bias=False), BatchNorm1d(n_hidden), Tanh(),\n",
    "    FlattenConsecutive(2), Linear(n_hidden * 2, n_hidden, bias=False), BatchNorm1d(n_hidden), Tanh(),\n",
    "    Linear(n_hidden, char_cnt),\n",
    "])\n",
    "\n",
    "with torch.no_grad():\n",
    "    model.layers[-1].weight *=0.1 # scale down the output weights\n",
    "\n",
    "parameters: Final[list[torch.Tensor]] = model.parameters\n",
    "for p in parameters:\n",
    "    p.requires_grad = True\n",
    "print(f\"Number of parameters: {sum(p.nelement() for p in parameters)}\")\n",
    "\n",
    "max_epochs: Final[int] = 200000\n",
    "batch_size: Final[int] = 128\n",
    "lossi: Final[list[float]] = []\n",
    "\n",
    "for i in range(max_epochs):\n",
    "    # Prepare mini-batch\n",
    "    ix = torch.randint(0, X_train.shape[0], (batch_size,))\n",
    "    X_batch, Y_batch = X_train[ix], Y_train[ix]\n",
    "\n",
    "    # Forward pass\n",
    "    logits = model(X_batch)\n",
    "\n",
    "    # Compute loss\n",
    "    loss = F.cross_entropy(logits, Y_batch)\n",
    "\n",
    "    # Backward pass\n",
    "    for p in parameters:\n",
    "        p.grad = None\n",
    "    loss.backward()\n",
    "\n",
    "    # Update parameters\n",
    "    lr = 0.1 if i < 150000 else 0.01\n",
    "    for p in parameters:\n",
    "        assert p.grad is not None\n",
    "        p.data -= lr * p.grad\n",
    "\n",
    "    if i % 10000 == 0:\n",
    "        print(f\"Epoch {i}/{max_epochs}: loss {loss.item():.4f}\")\n",
    "    lossi.append(loss.log10().item())\n"
   ]
  },
  {
   "cell_type": "code",
   "execution_count": 77,
   "id": "542d5a07",
   "metadata": {},
   "outputs": [
    {
     "data": {
      "text/plain": [
       "[<matplotlib.lines.Line2D at 0x764e7ff6ffe0>]"
      ]
     },
     "execution_count": 77,
     "metadata": {},
     "output_type": "execute_result"
    },
    {
     "data": {
      "image/png": "[encoded data removed]",
      "text/plain": [
       "<Figure size 640x480 with 1 Axes>"
      ]
     },
     "metadata": {},
     "output_type": "display_data"
    }
   ],
   "source": [
    "# Make lossi more readable\n",
    "\n",
    "lossi_ts = torch.tensor(lossi).view(-1, 1000)\n",
    "lossi_ts = lossi_ts.mean(dim=1)\n",
    "lossi_ts.shape\n",
    "\n",
    "plt.plot(lossi_ts)\n"
   ]
  },
  {
   "cell_type": "code",
   "execution_count": 78,
   "id": "5971220b",
   "metadata": {},
   "outputs": [
    {
     "name": "stdout",
     "output_type": "stream",
     "text": [
      "Train set loss: 1.868202567100525\n",
      "Validation set loss: 2.0243759155273438\n",
      "Test set loss: 2.0304033756256104\n"
     ]
    }
   ],
   "source": [
    "for layer in model.layers:\n",
    "    layer.training = False # set to evaluation mode\n",
    "\n",
    "print(f\"Train set loss: {calculate_loss(X_train, Y_train).item()}\")\n",
    "print(f\"Validation set loss: {calculate_loss(X_val, Y_val).item()}\")\n",
    "print(f\"Test set loss: {calculate_loss(X_test, Y_test).item()}\")\n"
   ]
  }
 ],
 "metadata": {
  "kernelspec": {
   "display_name": "learn_gpt",
   "language": "python",
   "name": "python3"
  },
  "language_info": {
   "codemirror_mode": {
    "name": "ipython",
    "version": 3
   },
   "file_extension": ".py",
   "mimetype": "text/x-python",
   "name": "python",
   "nbconvert_exporter": "python",
   "pygments_lexer": "ipython3",
   "version": "3.12.8"
  }
 },
 "nbformat": 4,
 "nbformat_minor": 5
}
